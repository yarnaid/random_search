{
 "metadata": {
  "name": "",
  "signature": "sha256:00b9aac845fa6c6bee576ed968acfd15861cc9255666f777d2925de36f06273d"
 },
 "nbformat": 3,
 "nbformat_minor": 0,
 "worksheets": [
  {
   "cells": [
    {
     "cell_type": "heading",
     "level": 1,
     "metadata": {},
     "source": [
      "MIMIC"
     ]
    },
    {
     "cell_type": "markdown",
     "metadata": {},
     "source": [
      "We need to define new class `MIMIC` similar to `GA` to solve problems."
     ]
    },
    {
     "cell_type": "code",
     "collapsed": false,
     "input": [
      "from scipy import randn, zeros\n",
      "from random import choice, random, gauss\n",
      "\n",
      "from pybrain.optimization.populationbased.evolution import Evolution\n",
      "from itertools import permutations"
     ],
     "language": "python",
     "metadata": {},
     "outputs": [],
     "prompt_number": 15
    },
    {
     "cell_type": "code",
     "collapsed": false,
     "input": [
      "class MIMIC(Evolution):\n",
      "    \n",
      "    #: selection proportion\n",
      "    topProportion = 0.2\n",
      "    elitism = False\n",
      "    eliteProportion = 0.5\n",
      "    initialPopulation = None\n",
      "    mustMaximize = True\n",
      "\n",
      "    def initPopulation(self):\n",
      "        raise NotImplementedError\n",
      "        \n",
      "    def produceOffspring(self):\n",
      "        sorted_population = self.select()\n",
      "        es = min(self.eliteSize, self.selectionSize)\n",
      "        self.update_prob()\n",
      "        self.currentpop = parents[:es]\n",
      "        # add new population\n",
      "        raise NotImplementedError\n",
      "        \n",
      "    def get_h(self, x):\n",
      "        # information entropy http://en.wikipedia.org/wiki/Entropy_(information_theory)#Definition\n",
      "        prob = self._oneEvaluation(x)\n",
      "        return np.log(prob) * prob\n",
      "    \n",
      "    def get_hh(self, x1, x2):\n",
      "        # cross entropy http://en.wikipedia.org/wiki/Cross_entropy#Motivation\n",
      "        prob1 = self._oneEvaluation(x1)\n",
      "        prob2 = self._oneEvaluation(x2)\n",
      "        return -prob1 * np.log(prob2)\n",
      "        \n",
      "    def update_prob(self):\n",
      "        population = self.currentpop\n",
      "        permutations = permutations(population)\n",
      "        best_score = 0\n",
      "        best_perm = perm[0]\n",
      "        for perm in enumerate(permutations):\n",
      "            J_pi = [self.get_hh(perm[j], perm[j+1]) for j in xrange(len(perm)-1)]\n",
      "            J_pi += self.get_h(perm[-1])\n",
      "            if J_pi < best_score:  # it must be minimized\n",
      "                best_score = J_pi\n",
      "                best_perm = perm\n",
      "        sepf._perumutation = perm\n",
      "            \n",
      "        \n",
      "        \n",
      "        raise NotImplementedError\n",
      "        \n",
      "    def select(self):\n",
      "        tmp = zip(self.fitnesses, self.currentpop)\n",
      "        tmp.sort(key = lambda x: x[0])            \n",
      "        tmp2 = list(reversed(tmp))[:self.selectionSize]\n",
      "        return map(lambda x: x[1], tmp2)\n",
      "    \n",
      "    @property\n",
      "    def eliteSize(self):\n",
      "        if self.elitism:\n",
      "            if self._eliteSize != None:\n",
      "                return self._eliteSize\n",
      "            else:\n",
      "                return int(self.populationSize * self.eliteProportion)\n",
      "        else:\n",
      "            return 0\n",
      "    \n",
      "    @property    \n",
      "    def selectionSize(self):\n",
      "        \"\"\" the number of parents selected from the current population \"\"\"\n",
      "        return int(self.populationSize * self.topProportion)"
     ],
     "language": "python",
     "metadata": {},
     "outputs": [],
     "prompt_number": 16
    }
   ],
   "metadata": {}
  }
 ]
}