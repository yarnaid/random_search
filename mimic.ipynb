{
 "metadata": {
  "name": "",
  "signature": "sha256:ce1c78e3ad5e3839259e69eb3c4a1f937767db381cea8194674ea5b89dba05bf"
 },
 "nbformat": 3,
 "nbformat_minor": 0,
 "worksheets": [
  {
   "cells": [
    {
     "cell_type": "markdown",
     "metadata": {},
     "source": [
      "# Mimic"
     ]
    },
    {
     "cell_type": "markdown",
     "metadata": {},
     "source": [
      "First of all we should load and process (clean) data."
     ]
    },
    {
     "cell_type": "code",
     "collapsed": false,
     "input": [
      "import pandas as pd\n",
      "%matplotlib inline"
     ],
     "language": "python",
     "metadata": {},
     "outputs": [],
     "prompt_number": 1
    },
    {
     "cell_type": "code",
     "collapsed": false,
     "input": [
      "features_df = pd.read_csv('./data/train_features_5000.csv')\n",
      "salary_df = pd.read_csv('./data/train_salaries_5000.csv')"
     ],
     "language": "python",
     "metadata": {},
     "outputs": [],
     "prompt_number": 2
    },
    {
     "cell_type": "markdown",
     "metadata": {},
     "source": [
      "Joint data frames"
     ]
    },
    {
     "cell_type": "code",
     "collapsed": false,
     "input": [
      "df = features_df.merge(salary_df, on='jobId')"
     ],
     "language": "python",
     "metadata": {},
     "outputs": [],
     "prompt_number": 3
    },
    {
     "cell_type": "markdown",
     "metadata": {},
     "source": [
      "Let's look at the data frame"
     ]
    },
    {
     "cell_type": "code",
     "collapsed": true,
     "input": [
      "df"
     ],
     "language": "python",
     "metadata": {},
     "outputs": [
      {
       "html": [
        "<div style=\"max-height:1000px;max-width:1500px;overflow:auto;\">\n",
        "<table border=\"1\" class=\"dataframe\">\n",
        "  <thead>\n",
        "    <tr style=\"text-align: right;\">\n",
        "      <th></th>\n",
        "      <th>jobId</th>\n",
        "      <th>companyId</th>\n",
        "      <th>jobType</th>\n",
        "      <th>degree</th>\n",
        "      <th>major</th>\n",
        "      <th>industry</th>\n",
        "      <th>yearsExperience</th>\n",
        "      <th>milesFromMetropolis</th>\n",
        "      <th>salary</th>\n",
        "    </tr>\n",
        "  </thead>\n",
        "  <tbody>\n",
        "    <tr>\n",
        "      <th>0   </th>\n",
        "      <td> JOB1362684407687</td>\n",
        "      <td> COMP37</td>\n",
        "      <td>            CFO</td>\n",
        "      <td>     MASTERS</td>\n",
        "      <td>        MATH</td>\n",
        "      <td>    HEALTH</td>\n",
        "      <td> 10</td>\n",
        "      <td> 83</td>\n",
        "      <td> 130</td>\n",
        "    </tr>\n",
        "    <tr>\n",
        "      <th>1   </th>\n",
        "      <td> JOB1362684407688</td>\n",
        "      <td> COMP19</td>\n",
        "      <td>            CEO</td>\n",
        "      <td> HIGH_SCHOOL</td>\n",
        "      <td>        NONE</td>\n",
        "      <td>       WEB</td>\n",
        "      <td>  3</td>\n",
        "      <td> 73</td>\n",
        "      <td> 101</td>\n",
        "    </tr>\n",
        "    <tr>\n",
        "      <th>2   </th>\n",
        "      <td> JOB1362684407689</td>\n",
        "      <td> COMP52</td>\n",
        "      <td> VICE_PRESIDENT</td>\n",
        "      <td>    DOCTORAL</td>\n",
        "      <td>     PHYSICS</td>\n",
        "      <td>    HEALTH</td>\n",
        "      <td> 10</td>\n",
        "      <td> 38</td>\n",
        "      <td> 137</td>\n",
        "    </tr>\n",
        "    <tr>\n",
        "      <th>3   </th>\n",
        "      <td> JOB1362684407690</td>\n",
        "      <td> COMP38</td>\n",
        "      <td>        MANAGER</td>\n",
        "      <td>    DOCTORAL</td>\n",
        "      <td>   CHEMISTRY</td>\n",
        "      <td>      AUTO</td>\n",
        "      <td>  8</td>\n",
        "      <td> 17</td>\n",
        "      <td> 142</td>\n",
        "    </tr>\n",
        "    <tr>\n",
        "      <th>4   </th>\n",
        "      <td> JOB1362684407691</td>\n",
        "      <td>  COMP7</td>\n",
        "      <td> VICE_PRESIDENT</td>\n",
        "      <td>   BACHELORS</td>\n",
        "      <td>     PHYSICS</td>\n",
        "      <td>   FINANCE</td>\n",
        "      <td>  8</td>\n",
        "      <td> 16</td>\n",
        "      <td> 163</td>\n",
        "    </tr>\n",
        "    <tr>\n",
        "      <th>5   </th>\n",
        "      <td> JOB1362684407692</td>\n",
        "      <td> COMP15</td>\n",
        "      <td>        MANAGER</td>\n",
        "      <td>    DOCTORAL</td>\n",
        "      <td>     COMPSCI</td>\n",
        "      <td>   FINANCE</td>\n",
        "      <td>  2</td>\n",
        "      <td> 31</td>\n",
        "      <td> 113</td>\n",
        "    </tr>\n",
        "    <tr>\n",
        "      <th>6   </th>\n",
        "      <td> JOB1362684407693</td>\n",
        "      <td> COMP15</td>\n",
        "      <td>            CFO</td>\n",
        "      <td>        NONE</td>\n",
        "      <td>        NONE</td>\n",
        "      <td>    HEALTH</td>\n",
        "      <td> 23</td>\n",
        "      <td> 24</td>\n",
        "      <td> 178</td>\n",
        "    </tr>\n",
        "    <tr>\n",
        "      <th>7   </th>\n",
        "      <td> JOB1362684407694</td>\n",
        "      <td> COMP24</td>\n",
        "      <td>         JUNIOR</td>\n",
        "      <td>   BACHELORS</td>\n",
        "      <td>   CHEMISTRY</td>\n",
        "      <td> EDUCATION</td>\n",
        "      <td>  9</td>\n",
        "      <td> 70</td>\n",
        "      <td>  73</td>\n",
        "    </tr>\n",
        "    <tr>\n",
        "      <th>8   </th>\n",
        "      <td> JOB1362684407695</td>\n",
        "      <td> COMP20</td>\n",
        "      <td>        JANITOR</td>\n",
        "      <td> HIGH_SCHOOL</td>\n",
        "      <td>        NONE</td>\n",
        "      <td> EDUCATION</td>\n",
        "      <td>  1</td>\n",
        "      <td> 54</td>\n",
        "      <td>  31</td>\n",
        "    </tr>\n",
        "    <tr>\n",
        "      <th>9   </th>\n",
        "      <td> JOB1362684407696</td>\n",
        "      <td> COMP41</td>\n",
        "      <td> VICE_PRESIDENT</td>\n",
        "      <td>   BACHELORS</td>\n",
        "      <td>   CHEMISTRY</td>\n",
        "      <td>      AUTO</td>\n",
        "      <td> 17</td>\n",
        "      <td> 68</td>\n",
        "      <td> 104</td>\n",
        "    </tr>\n",
        "    <tr>\n",
        "      <th>10  </th>\n",
        "      <td> JOB1362684407697</td>\n",
        "      <td> COMP56</td>\n",
        "      <td>        JANITOR</td>\n",
        "      <td> HIGH_SCHOOL</td>\n",
        "      <td>        NONE</td>\n",
        "      <td>    HEALTH</td>\n",
        "      <td> 24</td>\n",
        "      <td> 30</td>\n",
        "      <td> 102</td>\n",
        "    </tr>\n",
        "    <tr>\n",
        "      <th>11  </th>\n",
        "      <td> JOB1362684407698</td>\n",
        "      <td>  COMP7</td>\n",
        "      <td>            CEO</td>\n",
        "      <td>     MASTERS</td>\n",
        "      <td>     PHYSICS</td>\n",
        "      <td> EDUCATION</td>\n",
        "      <td>  7</td>\n",
        "      <td> 79</td>\n",
        "      <td> 144</td>\n",
        "    </tr>\n",
        "    <tr>\n",
        "      <th>12  </th>\n",
        "      <td> JOB1362684407699</td>\n",
        "      <td>  COMP4</td>\n",
        "      <td>         JUNIOR</td>\n",
        "      <td>        NONE</td>\n",
        "      <td>        NONE</td>\n",
        "      <td>       OIL</td>\n",
        "      <td>  8</td>\n",
        "      <td> 29</td>\n",
        "      <td>  79</td>\n",
        "    </tr>\n",
        "    <tr>\n",
        "      <th>13  </th>\n",
        "      <td> JOB1362684407700</td>\n",
        "      <td> COMP54</td>\n",
        "      <td>         JUNIOR</td>\n",
        "      <td>     MASTERS</td>\n",
        "      <td>        MATH</td>\n",
        "      <td>   FINANCE</td>\n",
        "      <td> 21</td>\n",
        "      <td> 26</td>\n",
        "      <td> 193</td>\n",
        "    </tr>\n",
        "    <tr>\n",
        "      <th>14  </th>\n",
        "      <td> JOB1362684407701</td>\n",
        "      <td> COMP57</td>\n",
        "      <td>        JANITOR</td>\n",
        "      <td>        NONE</td>\n",
        "      <td>        NONE</td>\n",
        "      <td>      AUTO</td>\n",
        "      <td> 21</td>\n",
        "      <td> 81</td>\n",
        "      <td>  47</td>\n",
        "    </tr>\n",
        "    <tr>\n",
        "      <th>15  </th>\n",
        "      <td> JOB1362684407702</td>\n",
        "      <td> COMP20</td>\n",
        "      <td>            CTO</td>\n",
        "      <td>     MASTERS</td>\n",
        "      <td>     BIOLOGY</td>\n",
        "      <td>   SERVICE</td>\n",
        "      <td> 13</td>\n",
        "      <td>  8</td>\n",
        "      <td> 172</td>\n",
        "    </tr>\n",
        "    <tr>\n",
        "      <th>16  </th>\n",
        "      <td> JOB1362684407703</td>\n",
        "      <td> COMP14</td>\n",
        "      <td>         JUNIOR</td>\n",
        "      <td>     MASTERS</td>\n",
        "      <td>     PHYSICS</td>\n",
        "      <td>   SERVICE</td>\n",
        "      <td>  1</td>\n",
        "      <td> 91</td>\n",
        "      <td>  47</td>\n",
        "    </tr>\n",
        "    <tr>\n",
        "      <th>17  </th>\n",
        "      <td> JOB1362684407704</td>\n",
        "      <td> COMP61</td>\n",
        "      <td> VICE_PRESIDENT</td>\n",
        "      <td>     MASTERS</td>\n",
        "      <td>  LITERATURE</td>\n",
        "      <td>   SERVICE</td>\n",
        "      <td> 23</td>\n",
        "      <td> 43</td>\n",
        "      <td> 126</td>\n",
        "    </tr>\n",
        "    <tr>\n",
        "      <th>18  </th>\n",
        "      <td> JOB1362684407705</td>\n",
        "      <td> COMP58</td>\n",
        "      <td>            CEO</td>\n",
        "      <td>     MASTERS</td>\n",
        "      <td>  LITERATURE</td>\n",
        "      <td>   SERVICE</td>\n",
        "      <td> 23</td>\n",
        "      <td> 66</td>\n",
        "      <td> 122</td>\n",
        "    </tr>\n",
        "    <tr>\n",
        "      <th>19  </th>\n",
        "      <td> JOB1362684407706</td>\n",
        "      <td>  COMP3</td>\n",
        "      <td>            CEO</td>\n",
        "      <td>     MASTERS</td>\n",
        "      <td>     PHYSICS</td>\n",
        "      <td> EDUCATION</td>\n",
        "      <td>  9</td>\n",
        "      <td> 99</td>\n",
        "      <td>  95</td>\n",
        "    </tr>\n",
        "    <tr>\n",
        "      <th>20  </th>\n",
        "      <td> JOB1362684407707</td>\n",
        "      <td> COMP44</td>\n",
        "      <td>        JANITOR</td>\n",
        "      <td>        NONE</td>\n",
        "      <td>        NONE</td>\n",
        "      <td>   SERVICE</td>\n",
        "      <td> 11</td>\n",
        "      <td> 96</td>\n",
        "      <td>  32</td>\n",
        "    </tr>\n",
        "    <tr>\n",
        "      <th>21  </th>\n",
        "      <td> JOB1362684407708</td>\n",
        "      <td> COMP20</td>\n",
        "      <td>         JUNIOR</td>\n",
        "      <td>        NONE</td>\n",
        "      <td>        NONE</td>\n",
        "      <td>      AUTO</td>\n",
        "      <td> 14</td>\n",
        "      <td> 62</td>\n",
        "      <td>  68</td>\n",
        "    </tr>\n",
        "    <tr>\n",
        "      <th>22  </th>\n",
        "      <td> JOB1362684407709</td>\n",
        "      <td> COMP30</td>\n",
        "      <td>         JUNIOR</td>\n",
        "      <td>   BACHELORS</td>\n",
        "      <td>  LITERATURE</td>\n",
        "      <td>    HEALTH</td>\n",
        "      <td> 18</td>\n",
        "      <td> 69</td>\n",
        "      <td> 105</td>\n",
        "    </tr>\n",
        "    <tr>\n",
        "      <th>23  </th>\n",
        "      <td> JOB1362684407710</td>\n",
        "      <td> COMP38</td>\n",
        "      <td>         JUNIOR</td>\n",
        "      <td>        NONE</td>\n",
        "      <td>        NONE</td>\n",
        "      <td>    HEALTH</td>\n",
        "      <td> 20</td>\n",
        "      <td> 63</td>\n",
        "      <td>  76</td>\n",
        "    </tr>\n",
        "    <tr>\n",
        "      <th>24  </th>\n",
        "      <td> JOB1362684407711</td>\n",
        "      <td> COMP20</td>\n",
        "      <td>            CEO</td>\n",
        "      <td>   BACHELORS</td>\n",
        "      <td>        NONE</td>\n",
        "      <td>       WEB</td>\n",
        "      <td> 12</td>\n",
        "      <td>  8</td>\n",
        "      <td> 202</td>\n",
        "    </tr>\n",
        "    <tr>\n",
        "      <th>25  </th>\n",
        "      <td> JOB1362684407712</td>\n",
        "      <td> COMP27</td>\n",
        "      <td>            CFO</td>\n",
        "      <td>   BACHELORS</td>\n",
        "      <td>   CHEMISTRY</td>\n",
        "      <td>      AUTO</td>\n",
        "      <td>  9</td>\n",
        "      <td> 70</td>\n",
        "      <td> 131</td>\n",
        "    </tr>\n",
        "    <tr>\n",
        "      <th>26  </th>\n",
        "      <td> JOB1362684407713</td>\n",
        "      <td> COMP38</td>\n",
        "      <td>            CEO</td>\n",
        "      <td>   BACHELORS</td>\n",
        "      <td>     COMPSCI</td>\n",
        "      <td>      AUTO</td>\n",
        "      <td> 24</td>\n",
        "      <td> 40</td>\n",
        "      <td> 158</td>\n",
        "    </tr>\n",
        "    <tr>\n",
        "      <th>27  </th>\n",
        "      <td> JOB1362684407714</td>\n",
        "      <td> COMP34</td>\n",
        "      <td>            CTO</td>\n",
        "      <td>     MASTERS</td>\n",
        "      <td>    BUSINESS</td>\n",
        "      <td>      AUTO</td>\n",
        "      <td>  9</td>\n",
        "      <td>  6</td>\n",
        "      <td> 130</td>\n",
        "    </tr>\n",
        "    <tr>\n",
        "      <th>28  </th>\n",
        "      <td> JOB1362684407715</td>\n",
        "      <td> COMP11</td>\n",
        "      <td>        JANITOR</td>\n",
        "      <td> HIGH_SCHOOL</td>\n",
        "      <td>        NONE</td>\n",
        "      <td>   FINANCE</td>\n",
        "      <td> 20</td>\n",
        "      <td> 23</td>\n",
        "      <td> 101</td>\n",
        "    </tr>\n",
        "    <tr>\n",
        "      <th>29  </th>\n",
        "      <td> JOB1362684407716</td>\n",
        "      <td> COMP31</td>\n",
        "      <td>         SENIOR</td>\n",
        "      <td>    DOCTORAL</td>\n",
        "      <td>    BUSINESS</td>\n",
        "      <td> EDUCATION</td>\n",
        "      <td>  1</td>\n",
        "      <td>  9</td>\n",
        "      <td>  82</td>\n",
        "    </tr>\n",
        "    <tr>\n",
        "      <th>...</th>\n",
        "      <td>...</td>\n",
        "      <td>...</td>\n",
        "      <td>...</td>\n",
        "      <td>...</td>\n",
        "      <td>...</td>\n",
        "      <td>...</td>\n",
        "      <td>...</td>\n",
        "      <td>...</td>\n",
        "      <td>...</td>\n",
        "    </tr>\n",
        "    <tr>\n",
        "      <th>4967</th>\n",
        "      <td> JOB1362684412654</td>\n",
        "      <td>  COMP8</td>\n",
        "      <td>        JANITOR</td>\n",
        "      <td> HIGH_SCHOOL</td>\n",
        "      <td>        NONE</td>\n",
        "      <td>    HEALTH</td>\n",
        "      <td> 16</td>\n",
        "      <td> 22</td>\n",
        "      <td>  73</td>\n",
        "    </tr>\n",
        "    <tr>\n",
        "      <th>4968</th>\n",
        "      <td> JOB1362684412655</td>\n",
        "      <td>  COMP0</td>\n",
        "      <td>            CTO</td>\n",
        "      <td> HIGH_SCHOOL</td>\n",
        "      <td>        NONE</td>\n",
        "      <td>       OIL</td>\n",
        "      <td> 15</td>\n",
        "      <td> 31</td>\n",
        "      <td> 194</td>\n",
        "    </tr>\n",
        "    <tr>\n",
        "      <th>4969</th>\n",
        "      <td> JOB1362684412656</td>\n",
        "      <td> COMP30</td>\n",
        "      <td>            CFO</td>\n",
        "      <td>        NONE</td>\n",
        "      <td>        NONE</td>\n",
        "      <td>       OIL</td>\n",
        "      <td> 22</td>\n",
        "      <td> 77</td>\n",
        "      <td> 149</td>\n",
        "    </tr>\n",
        "    <tr>\n",
        "      <th>4970</th>\n",
        "      <td> JOB1362684412657</td>\n",
        "      <td> COMP19</td>\n",
        "      <td>        JANITOR</td>\n",
        "      <td> HIGH_SCHOOL</td>\n",
        "      <td>        NONE</td>\n",
        "      <td>   SERVICE</td>\n",
        "      <td> 14</td>\n",
        "      <td> 28</td>\n",
        "      <td>  60</td>\n",
        "    </tr>\n",
        "    <tr>\n",
        "      <th>4971</th>\n",
        "      <td> JOB1362684412658</td>\n",
        "      <td> COMP24</td>\n",
        "      <td> VICE_PRESIDENT</td>\n",
        "      <td>     MASTERS</td>\n",
        "      <td>     COMPSCI</td>\n",
        "      <td>       WEB</td>\n",
        "      <td>  8</td>\n",
        "      <td>  8</td>\n",
        "      <td> 140</td>\n",
        "    </tr>\n",
        "    <tr>\n",
        "      <th>4972</th>\n",
        "      <td> JOB1362684412659</td>\n",
        "      <td> COMP13</td>\n",
        "      <td>            CTO</td>\n",
        "      <td>     MASTERS</td>\n",
        "      <td>     COMPSCI</td>\n",
        "      <td>       WEB</td>\n",
        "      <td>  9</td>\n",
        "      <td> 49</td>\n",
        "      <td> 157</td>\n",
        "    </tr>\n",
        "    <tr>\n",
        "      <th>4973</th>\n",
        "      <td> JOB1362684412660</td>\n",
        "      <td> COMP42</td>\n",
        "      <td>            CFO</td>\n",
        "      <td> HIGH_SCHOOL</td>\n",
        "      <td>        NONE</td>\n",
        "      <td>    HEALTH</td>\n",
        "      <td>  7</td>\n",
        "      <td> 51</td>\n",
        "      <td> 111</td>\n",
        "    </tr>\n",
        "    <tr>\n",
        "      <th>4974</th>\n",
        "      <td> JOB1362684412661</td>\n",
        "      <td> COMP38</td>\n",
        "      <td>            CTO</td>\n",
        "      <td>        NONE</td>\n",
        "      <td>        NONE</td>\n",
        "      <td>   FINANCE</td>\n",
        "      <td> 22</td>\n",
        "      <td>  3</td>\n",
        "      <td> 166</td>\n",
        "    </tr>\n",
        "    <tr>\n",
        "      <th>4975</th>\n",
        "      <td> JOB1362684412662</td>\n",
        "      <td> COMP44</td>\n",
        "      <td>         SENIOR</td>\n",
        "      <td>    DOCTORAL</td>\n",
        "      <td>    BUSINESS</td>\n",
        "      <td>    HEALTH</td>\n",
        "      <td> 14</td>\n",
        "      <td> 37</td>\n",
        "      <td> 137</td>\n",
        "    </tr>\n",
        "    <tr>\n",
        "      <th>4976</th>\n",
        "      <td> JOB1362684412663</td>\n",
        "      <td> COMP45</td>\n",
        "      <td>            CTO</td>\n",
        "      <td> HIGH_SCHOOL</td>\n",
        "      <td>        NONE</td>\n",
        "      <td>      AUTO</td>\n",
        "      <td> 17</td>\n",
        "      <td> 18</td>\n",
        "      <td> 138</td>\n",
        "    </tr>\n",
        "    <tr>\n",
        "      <th>4977</th>\n",
        "      <td> JOB1362684412664</td>\n",
        "      <td> COMP41</td>\n",
        "      <td>         SENIOR</td>\n",
        "      <td>   BACHELORS</td>\n",
        "      <td>     COMPSCI</td>\n",
        "      <td>   SERVICE</td>\n",
        "      <td> 14</td>\n",
        "      <td> 44</td>\n",
        "      <td> 114</td>\n",
        "    </tr>\n",
        "    <tr>\n",
        "      <th>4978</th>\n",
        "      <td> JOB1362684412665</td>\n",
        "      <td> COMP12</td>\n",
        "      <td> VICE_PRESIDENT</td>\n",
        "      <td> HIGH_SCHOOL</td>\n",
        "      <td>        NONE</td>\n",
        "      <td>    HEALTH</td>\n",
        "      <td>  3</td>\n",
        "      <td> 43</td>\n",
        "      <td> 134</td>\n",
        "    </tr>\n",
        "    <tr>\n",
        "      <th>4979</th>\n",
        "      <td> JOB1362684412666</td>\n",
        "      <td>  COMP4</td>\n",
        "      <td>            CEO</td>\n",
        "      <td> HIGH_SCHOOL</td>\n",
        "      <td>        NONE</td>\n",
        "      <td>   FINANCE</td>\n",
        "      <td> 13</td>\n",
        "      <td> 31</td>\n",
        "      <td> 126</td>\n",
        "    </tr>\n",
        "    <tr>\n",
        "      <th>4980</th>\n",
        "      <td> JOB1362684412667</td>\n",
        "      <td> COMP33</td>\n",
        "      <td>         SENIOR</td>\n",
        "      <td>    DOCTORAL</td>\n",
        "      <td>        MATH</td>\n",
        "      <td>   FINANCE</td>\n",
        "      <td>  7</td>\n",
        "      <td> 54</td>\n",
        "      <td> 112</td>\n",
        "    </tr>\n",
        "    <tr>\n",
        "      <th>4981</th>\n",
        "      <td> JOB1362684412668</td>\n",
        "      <td>  COMP4</td>\n",
        "      <td>        MANAGER</td>\n",
        "      <td> HIGH_SCHOOL</td>\n",
        "      <td>        NONE</td>\n",
        "      <td> EDUCATION</td>\n",
        "      <td> 17</td>\n",
        "      <td> 38</td>\n",
        "      <td> 129</td>\n",
        "    </tr>\n",
        "    <tr>\n",
        "      <th>4982</th>\n",
        "      <td> JOB1362684412669</td>\n",
        "      <td> COMP40</td>\n",
        "      <td>            CFO</td>\n",
        "      <td>     MASTERS</td>\n",
        "      <td> ENGINEERING</td>\n",
        "      <td>       OIL</td>\n",
        "      <td> 19</td>\n",
        "      <td> 42</td>\n",
        "      <td> 164</td>\n",
        "    </tr>\n",
        "    <tr>\n",
        "      <th>4983</th>\n",
        "      <td> JOB1362684412670</td>\n",
        "      <td> COMP48</td>\n",
        "      <td>            CFO</td>\n",
        "      <td>     MASTERS</td>\n",
        "      <td>     BIOLOGY</td>\n",
        "      <td>       WEB</td>\n",
        "      <td>  4</td>\n",
        "      <td> 90</td>\n",
        "      <td>  95</td>\n",
        "    </tr>\n",
        "    <tr>\n",
        "      <th>4984</th>\n",
        "      <td> JOB1362684412671</td>\n",
        "      <td> COMP42</td>\n",
        "      <td> VICE_PRESIDENT</td>\n",
        "      <td>    DOCTORAL</td>\n",
        "      <td>    BUSINESS</td>\n",
        "      <td>       WEB</td>\n",
        "      <td>  1</td>\n",
        "      <td> 97</td>\n",
        "      <td> 103</td>\n",
        "    </tr>\n",
        "    <tr>\n",
        "      <th>4985</th>\n",
        "      <td> JOB1362684412672</td>\n",
        "      <td> COMP58</td>\n",
        "      <td>            CEO</td>\n",
        "      <td>    DOCTORAL</td>\n",
        "      <td>   CHEMISTRY</td>\n",
        "      <td>      AUTO</td>\n",
        "      <td> 22</td>\n",
        "      <td> 82</td>\n",
        "      <td> 168</td>\n",
        "    </tr>\n",
        "    <tr>\n",
        "      <th>4986</th>\n",
        "      <td> JOB1362684412673</td>\n",
        "      <td> COMP45</td>\n",
        "      <td>        JANITOR</td>\n",
        "      <td> HIGH_SCHOOL</td>\n",
        "      <td>        NONE</td>\n",
        "      <td>    HEALTH</td>\n",
        "      <td>  0</td>\n",
        "      <td> 66</td>\n",
        "      <td>  44</td>\n",
        "    </tr>\n",
        "    <tr>\n",
        "      <th>4987</th>\n",
        "      <td> JOB1362684412674</td>\n",
        "      <td> COMP55</td>\n",
        "      <td>        MANAGER</td>\n",
        "      <td>   BACHELORS</td>\n",
        "      <td> ENGINEERING</td>\n",
        "      <td>      AUTO</td>\n",
        "      <td>  2</td>\n",
        "      <td> 18</td>\n",
        "      <td>  95</td>\n",
        "    </tr>\n",
        "    <tr>\n",
        "      <th>4988</th>\n",
        "      <td> JOB1362684412675</td>\n",
        "      <td>  COMP1</td>\n",
        "      <td>        JANITOR</td>\n",
        "      <td>        NONE</td>\n",
        "      <td>        NONE</td>\n",
        "      <td>   FINANCE</td>\n",
        "      <td>  1</td>\n",
        "      <td> 87</td>\n",
        "      <td>  61</td>\n",
        "    </tr>\n",
        "    <tr>\n",
        "      <th>4989</th>\n",
        "      <td> JOB1362684412676</td>\n",
        "      <td> COMP27</td>\n",
        "      <td>            CEO</td>\n",
        "      <td> HIGH_SCHOOL</td>\n",
        "      <td>        NONE</td>\n",
        "      <td>   FINANCE</td>\n",
        "      <td> 18</td>\n",
        "      <td> 25</td>\n",
        "      <td> 142</td>\n",
        "    </tr>\n",
        "    <tr>\n",
        "      <th>4990</th>\n",
        "      <td> JOB1362684412677</td>\n",
        "      <td>  COMP7</td>\n",
        "      <td>         SENIOR</td>\n",
        "      <td>   BACHELORS</td>\n",
        "      <td>     COMPSCI</td>\n",
        "      <td>      AUTO</td>\n",
        "      <td>  6</td>\n",
        "      <td>  9</td>\n",
        "      <td>  99</td>\n",
        "    </tr>\n",
        "    <tr>\n",
        "      <th>4991</th>\n",
        "      <td> JOB1362684412678</td>\n",
        "      <td> COMP21</td>\n",
        "      <td> VICE_PRESIDENT</td>\n",
        "      <td>    DOCTORAL</td>\n",
        "      <td>        MATH</td>\n",
        "      <td>       OIL</td>\n",
        "      <td> 12</td>\n",
        "      <td> 35</td>\n",
        "      <td> 184</td>\n",
        "    </tr>\n",
        "    <tr>\n",
        "      <th>4992</th>\n",
        "      <td> JOB1362684412679</td>\n",
        "      <td> COMP58</td>\n",
        "      <td>            CFO</td>\n",
        "      <td>        NONE</td>\n",
        "      <td>        NONE</td>\n",
        "      <td>   FINANCE</td>\n",
        "      <td> 21</td>\n",
        "      <td> 73</td>\n",
        "      <td> 122</td>\n",
        "    </tr>\n",
        "    <tr>\n",
        "      <th>4993</th>\n",
        "      <td> JOB1362684412680</td>\n",
        "      <td>  COMP3</td>\n",
        "      <td>        MANAGER</td>\n",
        "      <td>        NONE</td>\n",
        "      <td>        NONE</td>\n",
        "      <td>   FINANCE</td>\n",
        "      <td>  9</td>\n",
        "      <td> 15</td>\n",
        "      <td>  94</td>\n",
        "    </tr>\n",
        "    <tr>\n",
        "      <th>4994</th>\n",
        "      <td> JOB1362684412681</td>\n",
        "      <td> COMP34</td>\n",
        "      <td>            CTO</td>\n",
        "      <td>   BACHELORS</td>\n",
        "      <td>   CHEMISTRY</td>\n",
        "      <td>      AUTO</td>\n",
        "      <td> 24</td>\n",
        "      <td> 79</td>\n",
        "      <td> 150</td>\n",
        "    </tr>\n",
        "    <tr>\n",
        "      <th>4995</th>\n",
        "      <td> JOB1362684412682</td>\n",
        "      <td>  COMP3</td>\n",
        "      <td>        MANAGER</td>\n",
        "      <td>    DOCTORAL</td>\n",
        "      <td>    BUSINESS</td>\n",
        "      <td>       OIL</td>\n",
        "      <td> 19</td>\n",
        "      <td>  3</td>\n",
        "      <td> 185</td>\n",
        "    </tr>\n",
        "    <tr>\n",
        "      <th>4996</th>\n",
        "      <td> JOB1362684412683</td>\n",
        "      <td> COMP28</td>\n",
        "      <td> VICE_PRESIDENT</td>\n",
        "      <td>    DOCTORAL</td>\n",
        "      <td>     PHYSICS</td>\n",
        "      <td>       WEB</td>\n",
        "      <td> 24</td>\n",
        "      <td> 50</td>\n",
        "      <td> 220</td>\n",
        "    </tr>\n",
        "  </tbody>\n",
        "</table>\n",
        "<p>4997 rows \u00d7 9 columns</p>\n",
        "</div>"
       ],
       "metadata": {},
       "output_type": "pyout",
       "prompt_number": 4,
       "text": [
        "                 jobId companyId         jobType       degree        major  \\\n",
        "0     JOB1362684407687    COMP37             CFO      MASTERS         MATH   \n",
        "1     JOB1362684407688    COMP19             CEO  HIGH_SCHOOL         NONE   \n",
        "2     JOB1362684407689    COMP52  VICE_PRESIDENT     DOCTORAL      PHYSICS   \n",
        "3     JOB1362684407690    COMP38         MANAGER     DOCTORAL    CHEMISTRY   \n",
        "4     JOB1362684407691     COMP7  VICE_PRESIDENT    BACHELORS      PHYSICS   \n",
        "5     JOB1362684407692    COMP15         MANAGER     DOCTORAL      COMPSCI   \n",
        "6     JOB1362684407693    COMP15             CFO         NONE         NONE   \n",
        "7     JOB1362684407694    COMP24          JUNIOR    BACHELORS    CHEMISTRY   \n",
        "8     JOB1362684407695    COMP20         JANITOR  HIGH_SCHOOL         NONE   \n",
        "9     JOB1362684407696    COMP41  VICE_PRESIDENT    BACHELORS    CHEMISTRY   \n",
        "10    JOB1362684407697    COMP56         JANITOR  HIGH_SCHOOL         NONE   \n",
        "11    JOB1362684407698     COMP7             CEO      MASTERS      PHYSICS   \n",
        "12    JOB1362684407699     COMP4          JUNIOR         NONE         NONE   \n",
        "13    JOB1362684407700    COMP54          JUNIOR      MASTERS         MATH   \n",
        "14    JOB1362684407701    COMP57         JANITOR         NONE         NONE   \n",
        "15    JOB1362684407702    COMP20             CTO      MASTERS      BIOLOGY   \n",
        "16    JOB1362684407703    COMP14          JUNIOR      MASTERS      PHYSICS   \n",
        "17    JOB1362684407704    COMP61  VICE_PRESIDENT      MASTERS   LITERATURE   \n",
        "18    JOB1362684407705    COMP58             CEO      MASTERS   LITERATURE   \n",
        "19    JOB1362684407706     COMP3             CEO      MASTERS      PHYSICS   \n",
        "20    JOB1362684407707    COMP44         JANITOR         NONE         NONE   \n",
        "21    JOB1362684407708    COMP20          JUNIOR         NONE         NONE   \n",
        "22    JOB1362684407709    COMP30          JUNIOR    BACHELORS   LITERATURE   \n",
        "23    JOB1362684407710    COMP38          JUNIOR         NONE         NONE   \n",
        "24    JOB1362684407711    COMP20             CEO    BACHELORS         NONE   \n",
        "25    JOB1362684407712    COMP27             CFO    BACHELORS    CHEMISTRY   \n",
        "26    JOB1362684407713    COMP38             CEO    BACHELORS      COMPSCI   \n",
        "27    JOB1362684407714    COMP34             CTO      MASTERS     BUSINESS   \n",
        "28    JOB1362684407715    COMP11         JANITOR  HIGH_SCHOOL         NONE   \n",
        "29    JOB1362684407716    COMP31          SENIOR     DOCTORAL     BUSINESS   \n",
        "...                ...       ...             ...          ...          ...   \n",
        "4967  JOB1362684412654     COMP8         JANITOR  HIGH_SCHOOL         NONE   \n",
        "4968  JOB1362684412655     COMP0             CTO  HIGH_SCHOOL         NONE   \n",
        "4969  JOB1362684412656    COMP30             CFO         NONE         NONE   \n",
        "4970  JOB1362684412657    COMP19         JANITOR  HIGH_SCHOOL         NONE   \n",
        "4971  JOB1362684412658    COMP24  VICE_PRESIDENT      MASTERS      COMPSCI   \n",
        "4972  JOB1362684412659    COMP13             CTO      MASTERS      COMPSCI   \n",
        "4973  JOB1362684412660    COMP42             CFO  HIGH_SCHOOL         NONE   \n",
        "4974  JOB1362684412661    COMP38             CTO         NONE         NONE   \n",
        "4975  JOB1362684412662    COMP44          SENIOR     DOCTORAL     BUSINESS   \n",
        "4976  JOB1362684412663    COMP45             CTO  HIGH_SCHOOL         NONE   \n",
        "4977  JOB1362684412664    COMP41          SENIOR    BACHELORS      COMPSCI   \n",
        "4978  JOB1362684412665    COMP12  VICE_PRESIDENT  HIGH_SCHOOL         NONE   \n",
        "4979  JOB1362684412666     COMP4             CEO  HIGH_SCHOOL         NONE   \n",
        "4980  JOB1362684412667    COMP33          SENIOR     DOCTORAL         MATH   \n",
        "4981  JOB1362684412668     COMP4         MANAGER  HIGH_SCHOOL         NONE   \n",
        "4982  JOB1362684412669    COMP40             CFO      MASTERS  ENGINEERING   \n",
        "4983  JOB1362684412670    COMP48             CFO      MASTERS      BIOLOGY   \n",
        "4984  JOB1362684412671    COMP42  VICE_PRESIDENT     DOCTORAL     BUSINESS   \n",
        "4985  JOB1362684412672    COMP58             CEO     DOCTORAL    CHEMISTRY   \n",
        "4986  JOB1362684412673    COMP45         JANITOR  HIGH_SCHOOL         NONE   \n",
        "4987  JOB1362684412674    COMP55         MANAGER    BACHELORS  ENGINEERING   \n",
        "4988  JOB1362684412675     COMP1         JANITOR         NONE         NONE   \n",
        "4989  JOB1362684412676    COMP27             CEO  HIGH_SCHOOL         NONE   \n",
        "4990  JOB1362684412677     COMP7          SENIOR    BACHELORS      COMPSCI   \n",
        "4991  JOB1362684412678    COMP21  VICE_PRESIDENT     DOCTORAL         MATH   \n",
        "4992  JOB1362684412679    COMP58             CFO         NONE         NONE   \n",
        "4993  JOB1362684412680     COMP3         MANAGER         NONE         NONE   \n",
        "4994  JOB1362684412681    COMP34             CTO    BACHELORS    CHEMISTRY   \n",
        "4995  JOB1362684412682     COMP3         MANAGER     DOCTORAL     BUSINESS   \n",
        "4996  JOB1362684412683    COMP28  VICE_PRESIDENT     DOCTORAL      PHYSICS   \n",
        "\n",
        "       industry  yearsExperience  milesFromMetropolis  salary  \n",
        "0        HEALTH               10                   83     130  \n",
        "1           WEB                3                   73     101  \n",
        "2        HEALTH               10                   38     137  \n",
        "3          AUTO                8                   17     142  \n",
        "4       FINANCE                8                   16     163  \n",
        "5       FINANCE                2                   31     113  \n",
        "6        HEALTH               23                   24     178  \n",
        "7     EDUCATION                9                   70      73  \n",
        "8     EDUCATION                1                   54      31  \n",
        "9          AUTO               17                   68     104  \n",
        "10       HEALTH               24                   30     102  \n",
        "11    EDUCATION                7                   79     144  \n",
        "12          OIL                8                   29      79  \n",
        "13      FINANCE               21                   26     193  \n",
        "14         AUTO               21                   81      47  \n",
        "15      SERVICE               13                    8     172  \n",
        "16      SERVICE                1                   91      47  \n",
        "17      SERVICE               23                   43     126  \n",
        "18      SERVICE               23                   66     122  \n",
        "19    EDUCATION                9                   99      95  \n",
        "20      SERVICE               11                   96      32  \n",
        "21         AUTO               14                   62      68  \n",
        "22       HEALTH               18                   69     105  \n",
        "23       HEALTH               20                   63      76  \n",
        "24          WEB               12                    8     202  \n",
        "25         AUTO                9                   70     131  \n",
        "26         AUTO               24                   40     158  \n",
        "27         AUTO                9                    6     130  \n",
        "28      FINANCE               20                   23     101  \n",
        "29    EDUCATION                1                    9      82  \n",
        "...         ...              ...                  ...     ...  \n",
        "4967     HEALTH               16                   22      73  \n",
        "4968        OIL               15                   31     194  \n",
        "4969        OIL               22                   77     149  \n",
        "4970    SERVICE               14                   28      60  \n",
        "4971        WEB                8                    8     140  \n",
        "4972        WEB                9                   49     157  \n",
        "4973     HEALTH                7                   51     111  \n",
        "4974    FINANCE               22                    3     166  \n",
        "4975     HEALTH               14                   37     137  \n",
        "4976       AUTO               17                   18     138  \n",
        "4977    SERVICE               14                   44     114  \n",
        "4978     HEALTH                3                   43     134  \n",
        "4979    FINANCE               13                   31     126  \n",
        "4980    FINANCE                7                   54     112  \n",
        "4981  EDUCATION               17                   38     129  \n",
        "4982        OIL               19                   42     164  \n",
        "4983        WEB                4                   90      95  \n",
        "4984        WEB                1                   97     103  \n",
        "4985       AUTO               22                   82     168  \n",
        "4986     HEALTH                0                   66      44  \n",
        "4987       AUTO                2                   18      95  \n",
        "4988    FINANCE                1                   87      61  \n",
        "4989    FINANCE               18                   25     142  \n",
        "4990       AUTO                6                    9      99  \n",
        "4991        OIL               12                   35     184  \n",
        "4992    FINANCE               21                   73     122  \n",
        "4993    FINANCE                9                   15      94  \n",
        "4994       AUTO               24                   79     150  \n",
        "4995        OIL               19                    3     185  \n",
        "4996        WEB               24                   50     220  \n",
        "\n",
        "[4997 rows x 9 columns]"
       ]
      }
     ],
     "prompt_number": 4
    },
    {
     "cell_type": "code",
     "collapsed": false,
     "input": [
      "df.describe()"
     ],
     "language": "python",
     "metadata": {},
     "outputs": [
      {
       "html": [
        "<div style=\"max-height:1000px;max-width:1500px;overflow:auto;\">\n",
        "<table border=\"1\" class=\"dataframe\">\n",
        "  <thead>\n",
        "    <tr style=\"text-align: right;\">\n",
        "      <th></th>\n",
        "      <th>yearsExperience</th>\n",
        "      <th>milesFromMetropolis</th>\n",
        "      <th>salary</th>\n",
        "    </tr>\n",
        "  </thead>\n",
        "  <tbody>\n",
        "    <tr>\n",
        "      <th>count</th>\n",
        "      <td> 4997.000000</td>\n",
        "      <td> 4997.000000</td>\n",
        "      <td> 4997.000000</td>\n",
        "    </tr>\n",
        "    <tr>\n",
        "      <th>mean</th>\n",
        "      <td>   11.877927</td>\n",
        "      <td>   49.217731</td>\n",
        "      <td>  116.225135</td>\n",
        "    </tr>\n",
        "    <tr>\n",
        "      <th>std</th>\n",
        "      <td>    7.213927</td>\n",
        "      <td>   28.872657</td>\n",
        "      <td>   39.107716</td>\n",
        "    </tr>\n",
        "    <tr>\n",
        "      <th>min</th>\n",
        "      <td>    0.000000</td>\n",
        "      <td>    0.000000</td>\n",
        "      <td>   23.000000</td>\n",
        "    </tr>\n",
        "    <tr>\n",
        "      <th>25%</th>\n",
        "      <td>    6.000000</td>\n",
        "      <td>   24.000000</td>\n",
        "      <td>   88.000000</td>\n",
        "    </tr>\n",
        "    <tr>\n",
        "      <th>50%</th>\n",
        "      <td>   12.000000</td>\n",
        "      <td>   49.000000</td>\n",
        "      <td>  114.000000</td>\n",
        "    </tr>\n",
        "    <tr>\n",
        "      <th>75%</th>\n",
        "      <td>   18.000000</td>\n",
        "      <td>   74.000000</td>\n",
        "      <td>  142.000000</td>\n",
        "    </tr>\n",
        "    <tr>\n",
        "      <th>max</th>\n",
        "      <td>   24.000000</td>\n",
        "      <td>   99.000000</td>\n",
        "      <td>  259.000000</td>\n",
        "    </tr>\n",
        "  </tbody>\n",
        "</table>\n",
        "</div>"
       ],
       "metadata": {},
       "output_type": "pyout",
       "prompt_number": 5,
       "text": [
        "       yearsExperience  milesFromMetropolis       salary\n",
        "count      4997.000000          4997.000000  4997.000000\n",
        "mean         11.877927            49.217731   116.225135\n",
        "std           7.213927            28.872657    39.107716\n",
        "min           0.000000             0.000000    23.000000\n",
        "25%           6.000000            24.000000    88.000000\n",
        "50%          12.000000            49.000000   114.000000\n",
        "75%          18.000000            74.000000   142.000000\n",
        "max          24.000000            99.000000   259.000000"
       ]
      }
     ],
     "prompt_number": 5
    },
    {
     "cell_type": "markdown",
     "metadata": {},
     "source": [
      "It looks good. Now we have to clean them and `vectorize` to get grid in $N^8$ space.\n",
      "\n",
      "_This step is good, but in our method of climbing and for this data points is not necessary_"
     ]
    },
    {
     "cell_type": "code",
     "collapsed": false,
     "input": [
      "import numpy as np"
     ],
     "language": "python",
     "metadata": {},
     "outputs": [],
     "prompt_number": 6
    },
    {
     "cell_type": "code",
     "collapsed": false,
     "input": [
      "def col_to_int(col_name, df):\n",
      "    gr = df.groupby(df[col_name])\n",
      "    values_dict = dict()\n",
      "    for k in gr.groups:\n",
      "        values_dict[k] = df.ix[gr.groups[k]].salary.mean()\n",
      "    col = df[col_name]\n",
      "    convert = lambda x: values_dict[x]\n",
      "    return col.apply(convert)"
     ],
     "language": "python",
     "metadata": {},
     "outputs": [],
     "prompt_number": 7
    },
    {
     "cell_type": "code",
     "collapsed": false,
     "input": [
      "cols_to_int = set(df.columns.values[:-1])\n",
      "for col in cols_to_int:\n",
      "    df[col] = col_to_int(col, df)"
     ],
     "language": "python",
     "metadata": {},
     "outputs": [],
     "prompt_number": 8
    },
    {
     "cell_type": "markdown",
     "metadata": {},
     "source": [
      "Done! Let's see what we got"
     ]
    },
    {
     "cell_type": "code",
     "collapsed": false,
     "input": [
      "df"
     ],
     "language": "python",
     "metadata": {},
     "outputs": [
      {
       "html": [
        "<div style=\"max-height:1000px;max-width:1500px;overflow:auto;\">\n",
        "<table border=\"1\" class=\"dataframe\">\n",
        "  <thead>\n",
        "    <tr style=\"text-align: right;\">\n",
        "      <th></th>\n",
        "      <th>jobId</th>\n",
        "      <th>companyId</th>\n",
        "      <th>jobType</th>\n",
        "      <th>degree</th>\n",
        "      <th>major</th>\n",
        "      <th>industry</th>\n",
        "      <th>yearsExperience</th>\n",
        "      <th>milesFromMetropolis</th>\n",
        "      <th>salary</th>\n",
        "    </tr>\n",
        "  </thead>\n",
        "  <tbody>\n",
        "    <tr>\n",
        "      <th>0   </th>\n",
        "      <td> 130</td>\n",
        "      <td> 114.693548</td>\n",
        "      <td> 134.755208</td>\n",
        "      <td> 129.763615</td>\n",
        "      <td> 132.964744</td>\n",
        "      <td> 115.661088</td>\n",
        "      <td> 114.693069</td>\n",
        "      <td> 106.460000</td>\n",
        "      <td> 130</td>\n",
        "    </tr>\n",
        "    <tr>\n",
        "      <th>1   </th>\n",
        "      <td> 101</td>\n",
        "      <td> 104.493671</td>\n",
        "      <td> 143.661654</td>\n",
        "      <td> 102.374570</td>\n",
        "      <td> 103.062754</td>\n",
        "      <td> 123.712899</td>\n",
        "      <td>  95.366279</td>\n",
        "      <td> 106.870370</td>\n",
        "      <td> 101</td>\n",
        "    </tr>\n",
        "    <tr>\n",
        "      <th>2   </th>\n",
        "      <td> 137</td>\n",
        "      <td> 113.657534</td>\n",
        "      <td> 126.052795</td>\n",
        "      <td> 136.817308</td>\n",
        "      <td> 131.253676</td>\n",
        "      <td> 115.661088</td>\n",
        "      <td> 114.693069</td>\n",
        "      <td> 116.224490</td>\n",
        "      <td> 137</td>\n",
        "    </tr>\n",
        "    <tr>\n",
        "      <th>3   </th>\n",
        "      <td> 142</td>\n",
        "      <td> 116.767123</td>\n",
        "      <td> 115.553746</td>\n",
        "      <td> 136.817308</td>\n",
        "      <td> 127.280936</td>\n",
        "      <td> 110.311385</td>\n",
        "      <td> 111.864486</td>\n",
        "      <td> 136.674419</td>\n",
        "      <td> 142</td>\n",
        "    </tr>\n",
        "    <tr>\n",
        "      <th>4   </th>\n",
        "      <td> 163</td>\n",
        "      <td> 119.825000</td>\n",
        "      <td> 126.052795</td>\n",
        "      <td> 126.467039</td>\n",
        "      <td> 131.253676</td>\n",
        "      <td> 131.094183</td>\n",
        "      <td> 111.864486</td>\n",
        "      <td> 139.500000</td>\n",
        "      <td> 163</td>\n",
        "    </tr>\n",
        "    <tr>\n",
        "      <th>5   </th>\n",
        "      <td> 113</td>\n",
        "      <td> 110.702381</td>\n",
        "      <td> 115.553746</td>\n",
        "      <td> 136.817308</td>\n",
        "      <td> 133.149606</td>\n",
        "      <td> 131.094183</td>\n",
        "      <td>  96.088083</td>\n",
        "      <td> 120.226415</td>\n",
        "      <td> 113</td>\n",
        "    </tr>\n",
        "    <tr>\n",
        "      <th>6   </th>\n",
        "      <td> 178</td>\n",
        "      <td> 110.702381</td>\n",
        "      <td> 134.755208</td>\n",
        "      <td>  98.637973</td>\n",
        "      <td> 103.062754</td>\n",
        "      <td> 115.661088</td>\n",
        "      <td> 141.275510</td>\n",
        "      <td> 126.979167</td>\n",
        "      <td> 178</td>\n",
        "    </tr>\n",
        "    <tr>\n",
        "      <th>7   </th>\n",
        "      <td>  73</td>\n",
        "      <td> 117.666667</td>\n",
        "      <td>  97.485149</td>\n",
        "      <td> 126.467039</td>\n",
        "      <td> 127.280936</td>\n",
        "      <td>  99.479315</td>\n",
        "      <td> 112.681159</td>\n",
        "      <td> 105.560000</td>\n",
        "      <td>  73</td>\n",
        "    </tr>\n",
        "    <tr>\n",
        "      <th>8   </th>\n",
        "      <td>  31</td>\n",
        "      <td> 119.846154</td>\n",
        "      <td>  69.228209</td>\n",
        "      <td> 102.374570</td>\n",
        "      <td> 103.062754</td>\n",
        "      <td>  99.479315</td>\n",
        "      <td>  93.349776</td>\n",
        "      <td> 115.375000</td>\n",
        "      <td>  31</td>\n",
        "    </tr>\n",
        "    <tr>\n",
        "      <th>9   </th>\n",
        "      <td> 104</td>\n",
        "      <td> 106.409091</td>\n",
        "      <td> 126.052795</td>\n",
        "      <td> 126.467039</td>\n",
        "      <td> 127.280936</td>\n",
        "      <td> 110.311385</td>\n",
        "      <td> 125.477387</td>\n",
        "      <td>  96.750000</td>\n",
        "      <td> 104</td>\n",
        "    </tr>\n",
        "    <tr>\n",
        "      <th>10  </th>\n",
        "      <td> 102</td>\n",
        "      <td> 122.225806</td>\n",
        "      <td>  69.228209</td>\n",
        "      <td> 102.374570</td>\n",
        "      <td> 103.062754</td>\n",
        "      <td> 115.661088</td>\n",
        "      <td> 139.097561</td>\n",
        "      <td> 127.548387</td>\n",
        "      <td> 102</td>\n",
        "    </tr>\n",
        "    <tr>\n",
        "      <th>11  </th>\n",
        "      <td> 144</td>\n",
        "      <td> 119.825000</td>\n",
        "      <td> 143.661654</td>\n",
        "      <td> 129.763615</td>\n",
        "      <td> 131.253676</td>\n",
        "      <td>  99.479315</td>\n",
        "      <td> 104.719212</td>\n",
        "      <td> 107.000000</td>\n",
        "      <td> 144</td>\n",
        "    </tr>\n",
        "    <tr>\n",
        "      <th>12  </th>\n",
        "      <td>  79</td>\n",
        "      <td> 118.890244</td>\n",
        "      <td>  97.485149</td>\n",
        "      <td>  98.637973</td>\n",
        "      <td> 103.062754</td>\n",
        "      <td> 130.841958</td>\n",
        "      <td> 111.864486</td>\n",
        "      <td> 121.633333</td>\n",
        "      <td>  79</td>\n",
        "    </tr>\n",
        "    <tr>\n",
        "      <th>13  </th>\n",
        "      <td> 193</td>\n",
        "      <td> 114.204819</td>\n",
        "      <td>  97.485149</td>\n",
        "      <td> 129.763615</td>\n",
        "      <td> 132.964744</td>\n",
        "      <td> 131.094183</td>\n",
        "      <td> 134.404040</td>\n",
        "      <td> 118.422222</td>\n",
        "      <td> 193</td>\n",
        "    </tr>\n",
        "    <tr>\n",
        "      <th>14  </th>\n",
        "      <td>  47</td>\n",
        "      <td> 114.945205</td>\n",
        "      <td>  69.228209</td>\n",
        "      <td>  98.637973</td>\n",
        "      <td> 103.062754</td>\n",
        "      <td> 110.311385</td>\n",
        "      <td> 134.404040</td>\n",
        "      <td> 101.878049</td>\n",
        "      <td>  47</td>\n",
        "    </tr>\n",
        "    <tr>\n",
        "      <th>15  </th>\n",
        "      <td> 172</td>\n",
        "      <td> 119.846154</td>\n",
        "      <td> 136.838863</td>\n",
        "      <td> 129.763615</td>\n",
        "      <td> 125.572954</td>\n",
        "      <td> 101.585260</td>\n",
        "      <td> 119.070755</td>\n",
        "      <td> 139.036364</td>\n",
        "      <td> 172</td>\n",
        "    </tr>\n",
        "    <tr>\n",
        "      <th>16  </th>\n",
        "      <td>  47</td>\n",
        "      <td> 117.622449</td>\n",
        "      <td>  97.485149</td>\n",
        "      <td> 129.763615</td>\n",
        "      <td> 131.253676</td>\n",
        "      <td> 101.585260</td>\n",
        "      <td>  93.349776</td>\n",
        "      <td>  97.396552</td>\n",
        "      <td>  47</td>\n",
        "    </tr>\n",
        "    <tr>\n",
        "      <th>17  </th>\n",
        "      <td> 126</td>\n",
        "      <td> 116.057143</td>\n",
        "      <td> 126.052795</td>\n",
        "      <td> 129.763615</td>\n",
        "      <td> 123.250000</td>\n",
        "      <td> 101.585260</td>\n",
        "      <td> 141.275510</td>\n",
        "      <td> 115.813953</td>\n",
        "      <td> 126</td>\n",
        "    </tr>\n",
        "    <tr>\n",
        "      <th>18  </th>\n",
        "      <td> 122</td>\n",
        "      <td> 112.819149</td>\n",
        "      <td> 143.661654</td>\n",
        "      <td> 129.763615</td>\n",
        "      <td> 123.250000</td>\n",
        "      <td> 101.585260</td>\n",
        "      <td> 141.275510</td>\n",
        "      <td> 104.075000</td>\n",
        "      <td> 122</td>\n",
        "    </tr>\n",
        "    <tr>\n",
        "      <th>19  </th>\n",
        "      <td>  95</td>\n",
        "      <td> 121.969388</td>\n",
        "      <td> 143.661654</td>\n",
        "      <td> 129.763615</td>\n",
        "      <td> 131.253676</td>\n",
        "      <td>  99.479315</td>\n",
        "      <td> 112.681159</td>\n",
        "      <td> 101.963636</td>\n",
        "      <td>  95</td>\n",
        "    </tr>\n",
        "    <tr>\n",
        "      <th>20  </th>\n",
        "      <td>  32</td>\n",
        "      <td> 123.636364</td>\n",
        "      <td>  69.228209</td>\n",
        "      <td>  98.637973</td>\n",
        "      <td> 103.062754</td>\n",
        "      <td> 101.585260</td>\n",
        "      <td> 119.199052</td>\n",
        "      <td>  98.184615</td>\n",
        "      <td>  32</td>\n",
        "    </tr>\n",
        "    <tr>\n",
        "      <th>21  </th>\n",
        "      <td>  68</td>\n",
        "      <td> 119.846154</td>\n",
        "      <td>  97.485149</td>\n",
        "      <td>  98.637973</td>\n",
        "      <td> 103.062754</td>\n",
        "      <td> 110.311385</td>\n",
        "      <td> 114.450292</td>\n",
        "      <td> 107.913043</td>\n",
        "      <td>  68</td>\n",
        "    </tr>\n",
        "    <tr>\n",
        "      <th>22  </th>\n",
        "      <td> 105</td>\n",
        "      <td> 117.500000</td>\n",
        "      <td>  97.485149</td>\n",
        "      <td> 126.467039</td>\n",
        "      <td> 123.250000</td>\n",
        "      <td> 115.661088</td>\n",
        "      <td> 127.436893</td>\n",
        "      <td> 106.333333</td>\n",
        "      <td> 105</td>\n",
        "    </tr>\n",
        "    <tr>\n",
        "      <th>23  </th>\n",
        "      <td>  76</td>\n",
        "      <td> 116.767123</td>\n",
        "      <td>  97.485149</td>\n",
        "      <td>  98.637973</td>\n",
        "      <td> 103.062754</td>\n",
        "      <td> 115.661088</td>\n",
        "      <td> 132.936893</td>\n",
        "      <td> 109.041667</td>\n",
        "      <td>  76</td>\n",
        "    </tr>\n",
        "    <tr>\n",
        "      <th>24  </th>\n",
        "      <td> 202</td>\n",
        "      <td> 119.846154</td>\n",
        "      <td> 143.661654</td>\n",
        "      <td> 126.467039</td>\n",
        "      <td> 103.062754</td>\n",
        "      <td> 123.712899</td>\n",
        "      <td> 115.571429</td>\n",
        "      <td> 139.036364</td>\n",
        "      <td> 202</td>\n",
        "    </tr>\n",
        "    <tr>\n",
        "      <th>25  </th>\n",
        "      <td> 131</td>\n",
        "      <td> 124.692308</td>\n",
        "      <td> 134.755208</td>\n",
        "      <td> 126.467039</td>\n",
        "      <td> 127.280936</td>\n",
        "      <td> 110.311385</td>\n",
        "      <td> 112.681159</td>\n",
        "      <td> 105.560000</td>\n",
        "      <td> 131</td>\n",
        "    </tr>\n",
        "    <tr>\n",
        "      <th>26  </th>\n",
        "      <td> 158</td>\n",
        "      <td> 116.767123</td>\n",
        "      <td> 143.661654</td>\n",
        "      <td> 126.467039</td>\n",
        "      <td> 133.149606</td>\n",
        "      <td> 110.311385</td>\n",
        "      <td> 139.097561</td>\n",
        "      <td> 121.704545</td>\n",
        "      <td> 158</td>\n",
        "    </tr>\n",
        "    <tr>\n",
        "      <th>27  </th>\n",
        "      <td> 130</td>\n",
        "      <td> 114.408451</td>\n",
        "      <td> 136.838863</td>\n",
        "      <td> 129.763615</td>\n",
        "      <td> 141.089606</td>\n",
        "      <td> 110.311385</td>\n",
        "      <td> 112.681159</td>\n",
        "      <td> 127.478261</td>\n",
        "      <td> 130</td>\n",
        "    </tr>\n",
        "    <tr>\n",
        "      <th>28  </th>\n",
        "      <td> 101</td>\n",
        "      <td> 109.545455</td>\n",
        "      <td>  69.228209</td>\n",
        "      <td> 102.374570</td>\n",
        "      <td> 103.062754</td>\n",
        "      <td> 131.094183</td>\n",
        "      <td> 132.936893</td>\n",
        "      <td> 128.346939</td>\n",
        "      <td> 101</td>\n",
        "    </tr>\n",
        "    <tr>\n",
        "      <th>29  </th>\n",
        "      <td>  82</td>\n",
        "      <td> 115.387500</td>\n",
        "      <td> 105.281847</td>\n",
        "      <td> 136.817308</td>\n",
        "      <td> 141.089606</td>\n",
        "      <td>  99.479315</td>\n",
        "      <td>  93.349776</td>\n",
        "      <td> 129.547170</td>\n",
        "      <td>  82</td>\n",
        "    </tr>\n",
        "    <tr>\n",
        "      <th>...</th>\n",
        "      <td>...</td>\n",
        "      <td>...</td>\n",
        "      <td>...</td>\n",
        "      <td>...</td>\n",
        "      <td>...</td>\n",
        "      <td>...</td>\n",
        "      <td>...</td>\n",
        "      <td>...</td>\n",
        "      <td>...</td>\n",
        "    </tr>\n",
        "    <tr>\n",
        "      <th>4967</th>\n",
        "      <td>  73</td>\n",
        "      <td> 118.822581</td>\n",
        "      <td>  69.228209</td>\n",
        "      <td> 102.374570</td>\n",
        "      <td> 103.062754</td>\n",
        "      <td> 115.661088</td>\n",
        "      <td> 123.673684</td>\n",
        "      <td> 129.745098</td>\n",
        "      <td>  73</td>\n",
        "    </tr>\n",
        "    <tr>\n",
        "      <th>4968</th>\n",
        "      <td> 194</td>\n",
        "      <td> 118.443182</td>\n",
        "      <td> 136.838863</td>\n",
        "      <td> 102.374570</td>\n",
        "      <td> 103.062754</td>\n",
        "      <td> 130.841958</td>\n",
        "      <td> 118.851163</td>\n",
        "      <td> 120.226415</td>\n",
        "      <td> 194</td>\n",
        "    </tr>\n",
        "    <tr>\n",
        "      <th>4969</th>\n",
        "      <td> 149</td>\n",
        "      <td> 117.500000</td>\n",
        "      <td> 134.755208</td>\n",
        "      <td>  98.637973</td>\n",
        "      <td> 103.062754</td>\n",
        "      <td> 130.841958</td>\n",
        "      <td> 139.143678</td>\n",
        "      <td> 104.965517</td>\n",
        "      <td> 149</td>\n",
        "    </tr>\n",
        "    <tr>\n",
        "      <th>4970</th>\n",
        "      <td>  60</td>\n",
        "      <td> 104.493671</td>\n",
        "      <td>  69.228209</td>\n",
        "      <td> 102.374570</td>\n",
        "      <td> 103.062754</td>\n",
        "      <td> 101.585260</td>\n",
        "      <td> 114.450292</td>\n",
        "      <td> 118.212766</td>\n",
        "      <td>  60</td>\n",
        "    </tr>\n",
        "    <tr>\n",
        "      <th>4971</th>\n",
        "      <td> 140</td>\n",
        "      <td> 117.666667</td>\n",
        "      <td> 126.052795</td>\n",
        "      <td> 129.763615</td>\n",
        "      <td> 133.149606</td>\n",
        "      <td> 123.712899</td>\n",
        "      <td> 111.864486</td>\n",
        "      <td> 139.036364</td>\n",
        "      <td> 140</td>\n",
        "    </tr>\n",
        "    <tr>\n",
        "      <th>4972</th>\n",
        "      <td> 157</td>\n",
        "      <td> 111.880952</td>\n",
        "      <td> 136.838863</td>\n",
        "      <td> 129.763615</td>\n",
        "      <td> 133.149606</td>\n",
        "      <td> 123.712899</td>\n",
        "      <td> 112.681159</td>\n",
        "      <td> 120.127273</td>\n",
        "      <td> 157</td>\n",
        "    </tr>\n",
        "    <tr>\n",
        "      <th>4973</th>\n",
        "      <td> 111</td>\n",
        "      <td> 115.961538</td>\n",
        "      <td> 134.755208</td>\n",
        "      <td> 102.374570</td>\n",
        "      <td> 103.062754</td>\n",
        "      <td> 115.661088</td>\n",
        "      <td> 104.719212</td>\n",
        "      <td> 111.140351</td>\n",
        "      <td> 111</td>\n",
        "    </tr>\n",
        "    <tr>\n",
        "      <th>4974</th>\n",
        "      <td> 166</td>\n",
        "      <td> 116.767123</td>\n",
        "      <td> 136.838863</td>\n",
        "      <td>  98.637973</td>\n",
        "      <td> 103.062754</td>\n",
        "      <td> 131.094183</td>\n",
        "      <td> 139.143678</td>\n",
        "      <td> 142.245614</td>\n",
        "      <td> 166</td>\n",
        "    </tr>\n",
        "    <tr>\n",
        "      <th>4975</th>\n",
        "      <td> 137</td>\n",
        "      <td> 123.636364</td>\n",
        "      <td> 105.281847</td>\n",
        "      <td> 136.817308</td>\n",
        "      <td> 141.089606</td>\n",
        "      <td> 115.661088</td>\n",
        "      <td> 114.450292</td>\n",
        "      <td> 123.205128</td>\n",
        "      <td> 137</td>\n",
        "    </tr>\n",
        "    <tr>\n",
        "      <th>4976</th>\n",
        "      <td> 138</td>\n",
        "      <td> 122.987013</td>\n",
        "      <td> 136.838863</td>\n",
        "      <td> 102.374570</td>\n",
        "      <td> 103.062754</td>\n",
        "      <td> 110.311385</td>\n",
        "      <td> 125.477387</td>\n",
        "      <td> 132.625000</td>\n",
        "      <td> 138</td>\n",
        "    </tr>\n",
        "    <tr>\n",
        "      <th>4977</th>\n",
        "      <td> 114</td>\n",
        "      <td> 106.409091</td>\n",
        "      <td> 105.281847</td>\n",
        "      <td> 126.467039</td>\n",
        "      <td> 133.149606</td>\n",
        "      <td> 101.585260</td>\n",
        "      <td> 114.450292</td>\n",
        "      <td> 120.580000</td>\n",
        "      <td> 114</td>\n",
        "    </tr>\n",
        "    <tr>\n",
        "      <th>4978</th>\n",
        "      <td> 134</td>\n",
        "      <td> 118.313433</td>\n",
        "      <td> 126.052795</td>\n",
        "      <td> 102.374570</td>\n",
        "      <td> 103.062754</td>\n",
        "      <td> 115.661088</td>\n",
        "      <td>  95.366279</td>\n",
        "      <td> 115.813953</td>\n",
        "      <td> 134</td>\n",
        "    </tr>\n",
        "    <tr>\n",
        "      <th>4979</th>\n",
        "      <td> 126</td>\n",
        "      <td> 118.890244</td>\n",
        "      <td> 143.661654</td>\n",
        "      <td> 102.374570</td>\n",
        "      <td> 103.062754</td>\n",
        "      <td> 131.094183</td>\n",
        "      <td> 119.070755</td>\n",
        "      <td> 120.226415</td>\n",
        "      <td> 126</td>\n",
        "    </tr>\n",
        "    <tr>\n",
        "      <th>4980</th>\n",
        "      <td> 112</td>\n",
        "      <td> 121.397436</td>\n",
        "      <td> 105.281847</td>\n",
        "      <td> 136.817308</td>\n",
        "      <td> 132.964744</td>\n",
        "      <td> 131.094183</td>\n",
        "      <td> 104.719212</td>\n",
        "      <td> 115.375000</td>\n",
        "      <td> 112</td>\n",
        "    </tr>\n",
        "    <tr>\n",
        "      <th>4981</th>\n",
        "      <td> 129</td>\n",
        "      <td> 118.890244</td>\n",
        "      <td> 115.553746</td>\n",
        "      <td> 102.374570</td>\n",
        "      <td> 103.062754</td>\n",
        "      <td>  99.479315</td>\n",
        "      <td> 125.477387</td>\n",
        "      <td> 116.224490</td>\n",
        "      <td> 129</td>\n",
        "    </tr>\n",
        "    <tr>\n",
        "      <th>4982</th>\n",
        "      <td> 164</td>\n",
        "      <td> 122.193548</td>\n",
        "      <td> 134.755208</td>\n",
        "      <td> 129.763615</td>\n",
        "      <td> 139.411576</td>\n",
        "      <td> 130.841958</td>\n",
        "      <td> 128.881720</td>\n",
        "      <td> 116.254545</td>\n",
        "      <td> 164</td>\n",
        "    </tr>\n",
        "    <tr>\n",
        "      <th>4983</th>\n",
        "      <td>  95</td>\n",
        "      <td> 112.797468</td>\n",
        "      <td> 134.755208</td>\n",
        "      <td> 129.763615</td>\n",
        "      <td> 125.572954</td>\n",
        "      <td> 123.712899</td>\n",
        "      <td> 103.290476</td>\n",
        "      <td>  98.230769</td>\n",
        "      <td>  95</td>\n",
        "    </tr>\n",
        "    <tr>\n",
        "      <th>4984</th>\n",
        "      <td> 103</td>\n",
        "      <td> 115.961538</td>\n",
        "      <td> 126.052795</td>\n",
        "      <td> 136.817308</td>\n",
        "      <td> 141.089606</td>\n",
        "      <td> 123.712899</td>\n",
        "      <td>  93.349776</td>\n",
        "      <td>  99.928571</td>\n",
        "      <td> 103</td>\n",
        "    </tr>\n",
        "    <tr>\n",
        "      <th>4985</th>\n",
        "      <td> 168</td>\n",
        "      <td> 112.819149</td>\n",
        "      <td> 143.661654</td>\n",
        "      <td> 136.817308</td>\n",
        "      <td> 127.280936</td>\n",
        "      <td> 110.311385</td>\n",
        "      <td> 139.143678</td>\n",
        "      <td> 110.163265</td>\n",
        "      <td> 168</td>\n",
        "    </tr>\n",
        "    <tr>\n",
        "      <th>4986</th>\n",
        "      <td>  44</td>\n",
        "      <td> 122.987013</td>\n",
        "      <td>  69.228209</td>\n",
        "      <td> 102.374570</td>\n",
        "      <td> 103.062754</td>\n",
        "      <td> 115.661088</td>\n",
        "      <td>  91.518692</td>\n",
        "      <td> 104.075000</td>\n",
        "      <td>  44</td>\n",
        "    </tr>\n",
        "    <tr>\n",
        "      <th>4987</th>\n",
        "      <td>  95</td>\n",
        "      <td> 111.552083</td>\n",
        "      <td> 115.553746</td>\n",
        "      <td> 126.467039</td>\n",
        "      <td> 139.411576</td>\n",
        "      <td> 110.311385</td>\n",
        "      <td>  96.088083</td>\n",
        "      <td> 132.625000</td>\n",
        "      <td>  95</td>\n",
        "    </tr>\n",
        "    <tr>\n",
        "      <th>4988</th>\n",
        "      <td>  61</td>\n",
        "      <td> 108.471264</td>\n",
        "      <td>  69.228209</td>\n",
        "      <td>  98.637973</td>\n",
        "      <td> 103.062754</td>\n",
        "      <td> 131.094183</td>\n",
        "      <td>  93.349776</td>\n",
        "      <td>  96.648649</td>\n",
        "      <td>  61</td>\n",
        "    </tr>\n",
        "    <tr>\n",
        "      <th>4989</th>\n",
        "      <td> 142</td>\n",
        "      <td> 124.692308</td>\n",
        "      <td> 143.661654</td>\n",
        "      <td> 102.374570</td>\n",
        "      <td> 103.062754</td>\n",
        "      <td> 131.094183</td>\n",
        "      <td> 127.436893</td>\n",
        "      <td> 123.818182</td>\n",
        "      <td> 142</td>\n",
        "    </tr>\n",
        "    <tr>\n",
        "      <th>4990</th>\n",
        "      <td>  99</td>\n",
        "      <td> 119.825000</td>\n",
        "      <td> 105.281847</td>\n",
        "      <td> 126.467039</td>\n",
        "      <td> 133.149606</td>\n",
        "      <td> 110.311385</td>\n",
        "      <td> 103.453659</td>\n",
        "      <td> 129.547170</td>\n",
        "      <td>  99</td>\n",
        "    </tr>\n",
        "    <tr>\n",
        "      <th>4991</th>\n",
        "      <td> 184</td>\n",
        "      <td> 121.250000</td>\n",
        "      <td> 126.052795</td>\n",
        "      <td> 136.817308</td>\n",
        "      <td> 132.964744</td>\n",
        "      <td> 130.841958</td>\n",
        "      <td> 115.571429</td>\n",
        "      <td> 124.156863</td>\n",
        "      <td> 184</td>\n",
        "    </tr>\n",
        "    <tr>\n",
        "      <th>4992</th>\n",
        "      <td> 122</td>\n",
        "      <td> 112.819149</td>\n",
        "      <td> 134.755208</td>\n",
        "      <td>  98.637973</td>\n",
        "      <td> 103.062754</td>\n",
        "      <td> 131.094183</td>\n",
        "      <td> 134.404040</td>\n",
        "      <td> 106.870370</td>\n",
        "      <td> 122</td>\n",
        "    </tr>\n",
        "    <tr>\n",
        "      <th>4993</th>\n",
        "      <td>  94</td>\n",
        "      <td> 121.969388</td>\n",
        "      <td> 115.553746</td>\n",
        "      <td>  98.637973</td>\n",
        "      <td> 103.062754</td>\n",
        "      <td> 131.094183</td>\n",
        "      <td> 112.681159</td>\n",
        "      <td> 127.240741</td>\n",
        "      <td>  94</td>\n",
        "    </tr>\n",
        "    <tr>\n",
        "      <th>4994</th>\n",
        "      <td> 150</td>\n",
        "      <td> 114.408451</td>\n",
        "      <td> 136.838863</td>\n",
        "      <td> 126.467039</td>\n",
        "      <td> 127.280936</td>\n",
        "      <td> 110.311385</td>\n",
        "      <td> 139.097561</td>\n",
        "      <td> 107.000000</td>\n",
        "      <td> 150</td>\n",
        "    </tr>\n",
        "    <tr>\n",
        "      <th>4995</th>\n",
        "      <td> 185</td>\n",
        "      <td> 121.969388</td>\n",
        "      <td> 115.553746</td>\n",
        "      <td> 136.817308</td>\n",
        "      <td> 141.089606</td>\n",
        "      <td> 130.841958</td>\n",
        "      <td> 128.881720</td>\n",
        "      <td> 142.245614</td>\n",
        "      <td> 185</td>\n",
        "    </tr>\n",
        "    <tr>\n",
        "      <th>4996</th>\n",
        "      <td> 220</td>\n",
        "      <td> 109.205128</td>\n",
        "      <td> 126.052795</td>\n",
        "      <td> 136.817308</td>\n",
        "      <td> 131.253676</td>\n",
        "      <td> 123.712899</td>\n",
        "      <td> 139.097561</td>\n",
        "      <td> 111.358491</td>\n",
        "      <td> 220</td>\n",
        "    </tr>\n",
        "  </tbody>\n",
        "</table>\n",
        "<p>4997 rows \u00d7 9 columns</p>\n",
        "</div>"
       ],
       "metadata": {},
       "output_type": "pyout",
       "prompt_number": 9,
       "text": [
        "      jobId   companyId     jobType      degree       major    industry  \\\n",
        "0       130  114.693548  134.755208  129.763615  132.964744  115.661088   \n",
        "1       101  104.493671  143.661654  102.374570  103.062754  123.712899   \n",
        "2       137  113.657534  126.052795  136.817308  131.253676  115.661088   \n",
        "3       142  116.767123  115.553746  136.817308  127.280936  110.311385   \n",
        "4       163  119.825000  126.052795  126.467039  131.253676  131.094183   \n",
        "5       113  110.702381  115.553746  136.817308  133.149606  131.094183   \n",
        "6       178  110.702381  134.755208   98.637973  103.062754  115.661088   \n",
        "7        73  117.666667   97.485149  126.467039  127.280936   99.479315   \n",
        "8        31  119.846154   69.228209  102.374570  103.062754   99.479315   \n",
        "9       104  106.409091  126.052795  126.467039  127.280936  110.311385   \n",
        "10      102  122.225806   69.228209  102.374570  103.062754  115.661088   \n",
        "11      144  119.825000  143.661654  129.763615  131.253676   99.479315   \n",
        "12       79  118.890244   97.485149   98.637973  103.062754  130.841958   \n",
        "13      193  114.204819   97.485149  129.763615  132.964744  131.094183   \n",
        "14       47  114.945205   69.228209   98.637973  103.062754  110.311385   \n",
        "15      172  119.846154  136.838863  129.763615  125.572954  101.585260   \n",
        "16       47  117.622449   97.485149  129.763615  131.253676  101.585260   \n",
        "17      126  116.057143  126.052795  129.763615  123.250000  101.585260   \n",
        "18      122  112.819149  143.661654  129.763615  123.250000  101.585260   \n",
        "19       95  121.969388  143.661654  129.763615  131.253676   99.479315   \n",
        "20       32  123.636364   69.228209   98.637973  103.062754  101.585260   \n",
        "21       68  119.846154   97.485149   98.637973  103.062754  110.311385   \n",
        "22      105  117.500000   97.485149  126.467039  123.250000  115.661088   \n",
        "23       76  116.767123   97.485149   98.637973  103.062754  115.661088   \n",
        "24      202  119.846154  143.661654  126.467039  103.062754  123.712899   \n",
        "25      131  124.692308  134.755208  126.467039  127.280936  110.311385   \n",
        "26      158  116.767123  143.661654  126.467039  133.149606  110.311385   \n",
        "27      130  114.408451  136.838863  129.763615  141.089606  110.311385   \n",
        "28      101  109.545455   69.228209  102.374570  103.062754  131.094183   \n",
        "29       82  115.387500  105.281847  136.817308  141.089606   99.479315   \n",
        "...     ...         ...         ...         ...         ...         ...   \n",
        "4967     73  118.822581   69.228209  102.374570  103.062754  115.661088   \n",
        "4968    194  118.443182  136.838863  102.374570  103.062754  130.841958   \n",
        "4969    149  117.500000  134.755208   98.637973  103.062754  130.841958   \n",
        "4970     60  104.493671   69.228209  102.374570  103.062754  101.585260   \n",
        "4971    140  117.666667  126.052795  129.763615  133.149606  123.712899   \n",
        "4972    157  111.880952  136.838863  129.763615  133.149606  123.712899   \n",
        "4973    111  115.961538  134.755208  102.374570  103.062754  115.661088   \n",
        "4974    166  116.767123  136.838863   98.637973  103.062754  131.094183   \n",
        "4975    137  123.636364  105.281847  136.817308  141.089606  115.661088   \n",
        "4976    138  122.987013  136.838863  102.374570  103.062754  110.311385   \n",
        "4977    114  106.409091  105.281847  126.467039  133.149606  101.585260   \n",
        "4978    134  118.313433  126.052795  102.374570  103.062754  115.661088   \n",
        "4979    126  118.890244  143.661654  102.374570  103.062754  131.094183   \n",
        "4980    112  121.397436  105.281847  136.817308  132.964744  131.094183   \n",
        "4981    129  118.890244  115.553746  102.374570  103.062754   99.479315   \n",
        "4982    164  122.193548  134.755208  129.763615  139.411576  130.841958   \n",
        "4983     95  112.797468  134.755208  129.763615  125.572954  123.712899   \n",
        "4984    103  115.961538  126.052795  136.817308  141.089606  123.712899   \n",
        "4985    168  112.819149  143.661654  136.817308  127.280936  110.311385   \n",
        "4986     44  122.987013   69.228209  102.374570  103.062754  115.661088   \n",
        "4987     95  111.552083  115.553746  126.467039  139.411576  110.311385   \n",
        "4988     61  108.471264   69.228209   98.637973  103.062754  131.094183   \n",
        "4989    142  124.692308  143.661654  102.374570  103.062754  131.094183   \n",
        "4990     99  119.825000  105.281847  126.467039  133.149606  110.311385   \n",
        "4991    184  121.250000  126.052795  136.817308  132.964744  130.841958   \n",
        "4992    122  112.819149  134.755208   98.637973  103.062754  131.094183   \n",
        "4993     94  121.969388  115.553746   98.637973  103.062754  131.094183   \n",
        "4994    150  114.408451  136.838863  126.467039  127.280936  110.311385   \n",
        "4995    185  121.969388  115.553746  136.817308  141.089606  130.841958   \n",
        "4996    220  109.205128  126.052795  136.817308  131.253676  123.712899   \n",
        "\n",
        "      yearsExperience  milesFromMetropolis  salary  \n",
        "0          114.693069           106.460000     130  \n",
        "1           95.366279           106.870370     101  \n",
        "2          114.693069           116.224490     137  \n",
        "3          111.864486           136.674419     142  \n",
        "4          111.864486           139.500000     163  \n",
        "5           96.088083           120.226415     113  \n",
        "6          141.275510           126.979167     178  \n",
        "7          112.681159           105.560000      73  \n",
        "8           93.349776           115.375000      31  \n",
        "9          125.477387            96.750000     104  \n",
        "10         139.097561           127.548387     102  \n",
        "11         104.719212           107.000000     144  \n",
        "12         111.864486           121.633333      79  \n",
        "13         134.404040           118.422222     193  \n",
        "14         134.404040           101.878049      47  \n",
        "15         119.070755           139.036364     172  \n",
        "16          93.349776            97.396552      47  \n",
        "17         141.275510           115.813953     126  \n",
        "18         141.275510           104.075000     122  \n",
        "19         112.681159           101.963636      95  \n",
        "20         119.199052            98.184615      32  \n",
        "21         114.450292           107.913043      68  \n",
        "22         127.436893           106.333333     105  \n",
        "23         132.936893           109.041667      76  \n",
        "24         115.571429           139.036364     202  \n",
        "25         112.681159           105.560000     131  \n",
        "26         139.097561           121.704545     158  \n",
        "27         112.681159           127.478261     130  \n",
        "28         132.936893           128.346939     101  \n",
        "29          93.349776           129.547170      82  \n",
        "...               ...                  ...     ...  \n",
        "4967       123.673684           129.745098      73  \n",
        "4968       118.851163           120.226415     194  \n",
        "4969       139.143678           104.965517     149  \n",
        "4970       114.450292           118.212766      60  \n",
        "4971       111.864486           139.036364     140  \n",
        "4972       112.681159           120.127273     157  \n",
        "4973       104.719212           111.140351     111  \n",
        "4974       139.143678           142.245614     166  \n",
        "4975       114.450292           123.205128     137  \n",
        "4976       125.477387           132.625000     138  \n",
        "4977       114.450292           120.580000     114  \n",
        "4978        95.366279           115.813953     134  \n",
        "4979       119.070755           120.226415     126  \n",
        "4980       104.719212           115.375000     112  \n",
        "4981       125.477387           116.224490     129  \n",
        "4982       128.881720           116.254545     164  \n",
        "4983       103.290476            98.230769      95  \n",
        "4984        93.349776            99.928571     103  \n",
        "4985       139.143678           110.163265     168  \n",
        "4986        91.518692           104.075000      44  \n",
        "4987        96.088083           132.625000      95  \n",
        "4988        93.349776            96.648649      61  \n",
        "4989       127.436893           123.818182     142  \n",
        "4990       103.453659           129.547170      99  \n",
        "4991       115.571429           124.156863     184  \n",
        "4992       134.404040           106.870370     122  \n",
        "4993       112.681159           127.240741      94  \n",
        "4994       139.097561           107.000000     150  \n",
        "4995       128.881720           142.245614     185  \n",
        "4996       139.097561           111.358491     220  \n",
        "\n",
        "[4997 rows x 9 columns]"
       ]
      }
     ],
     "prompt_number": 9
    },
    {
     "cell_type": "markdown",
     "metadata": {},
     "source": [
      "# Mimic Algorithm"
     ]
    },
    {
     "cell_type": "markdown",
     "metadata": {},
     "source": [
      "Basic code with description is in `mimic` module"
     ]
    },
    {
     "cell_type": "code",
     "collapsed": false,
     "input": [
      "import mimic"
     ],
     "language": "python",
     "metadata": {},
     "outputs": [],
     "prompt_number": 10
    },
    {
     "cell_type": "heading",
     "level": 1,
     "metadata": {},
     "source": [
      "Module `mimi` conatinains main class `Mimic` for algorithm. Detailed description is inside.\n",
      "\n",
      "**Algorithm works as following:**\n",
      "1. Run\n",
      "2. ...\n",
      "3. Profit"
     ]
    },
    {
     "cell_type": "code",
     "collapsed": false,
     "input": [
      "for col in df.columns[1:-1]:\n",
      "    values = dict([ (v, i) for i, v in enumerate(sorted(set(df[col]), reverse=False))])\n",
      "    df[col] = df[col].apply(lambda x: values[x])"
     ],
     "language": "python",
     "metadata": {},
     "outputs": [],
     "prompt_number": 17
    },
    {
     "cell_type": "code",
     "collapsed": false,
     "input": [
      "rows = df.as_matrix(columns=df.columns[1:-1])\n",
      "domain = []\n",
      "for col in rows.T:\n",
      "    domain.append((col.min(), col.max()))"
     ],
     "language": "python",
     "metadata": {},
     "outputs": [],
     "prompt_number": 18
    },
    {
     "cell_type": "code",
     "collapsed": false,
     "input": [
      "from scipy import spatial"
     ],
     "language": "python",
     "metadata": {},
     "outputs": [],
     "prompt_number": 19
    },
    {
     "cell_type": "code",
     "collapsed": false,
     "input": [
      "tree = spatial.KDTree(df.ix[:, 1:-1].as_matrix())\n",
      "e = np.sqrt(sum([1] * len(df.columns[1:-1])))\n",
      "def get_by_params(params):\n",
      "    cond = df[df.columns[1]].isin([params[0]])\n",
      "    for i in xrange(1, len(params)):\n",
      "        cond = cond & df[df.columns[i+1]].isin([params[i]])\n",
      "    res = df[cond]\n",
      "    if len(res) < 1:\n",
      "        points = set()\n",
      "        r = 1\n",
      "        while len(points) < 1:\n",
      "            points = set(tree.query_ball_point(params, r*e)) - {get_by_params.last}\n",
      "            r += 1\n",
      "        new_id = sorted(points)[-1]\n",
      "        get_by_params.last = new_id\n",
      "        new_params = tree.data[new_id]\n",
      "        res = get_by_params(new_params)\n",
      "    return res\n",
      "get_by_params.last = -1\n",
      "get_by_params(df.iloc[10][1:-1])"
     ],
     "language": "python",
     "metadata": {},
     "outputs": [
      {
       "html": [
        "<div style=\"max-height:1000px;max-width:1500px;overflow:auto;\">\n",
        "<table border=\"1\" class=\"dataframe\">\n",
        "  <thead>\n",
        "    <tr style=\"text-align: right;\">\n",
        "      <th></th>\n",
        "      <th>jobId</th>\n",
        "      <th>companyId</th>\n",
        "      <th>jobType</th>\n",
        "      <th>degree</th>\n",
        "      <th>major</th>\n",
        "      <th>industry</th>\n",
        "      <th>yearsExperience</th>\n",
        "      <th>milesFromMetropolis</th>\n",
        "      <th>salary</th>\n",
        "    </tr>\n",
        "  </thead>\n",
        "  <tbody>\n",
        "    <tr>\n",
        "      <th>10</th>\n",
        "      <td> 102</td>\n",
        "      <td> 9</td>\n",
        "      <td> 7</td>\n",
        "      <td> 3</td>\n",
        "      <td> 8</td>\n",
        "      <td> 3</td>\n",
        "      <td> 2</td>\n",
        "      <td> 24</td>\n",
        "      <td> 102</td>\n",
        "    </tr>\n",
        "  </tbody>\n",
        "</table>\n",
        "</div>"
       ],
       "metadata": {},
       "output_type": "pyout",
       "prompt_number": 39,
       "text": [
        "    jobId  companyId  jobType  degree  major  industry  yearsExperience  \\\n",
        "10    102          9        7       3      8         3                2   \n",
        "\n",
        "    milesFromMetropolis  salary  \n",
        "10                   24     102  "
       ]
      }
     ],
     "prompt_number": 39
    },
    {
     "cell_type": "code",
     "collapsed": false,
     "input": [
      "reload(mimic)\n",
      "def fitness_function(params):\n",
      "    v = get_by_params(params)\n",
      "    if len(v) > 0:\n",
      "        res = v.iloc[0][-1]\n",
      "    else:\n",
      "        res = 1\n",
      "    if res > fitness_function.max:\n",
      "        fitness_function.max = res\n",
      "    return res/fitness_function.max\n",
      "fitness_function.max = 0\n",
      "m = mimic.Mimic(domain, fitness_function, 100, 0.8)\n",
      "m._generate_initial_sample = lambda: df.as_matrix(columns=df.columns[1:-1])[np.random.randint(0, len(df))]\n",
      "post_process_samples = lambda samples: [get_by_params(x).iloc[0][1:-1] for x in samples]\n",
      "last_sampels = []\n",
      "for i in xrange(10):\n",
      "    samples = m.fit(post_process_samples)\n",
      "    if last_sampels == [get_by_params(s) for s in samples]:\n",
      "        samples = m.fit()\n",
      "    last_sampels = samples\n",
      "    for s in samples:\n",
      "        print get_by_params(s).iloc[0][-1], fitness_function(s),\n",
      "    print"
     ],
     "language": "python",
     "metadata": {},
     "outputs": [
      {
       "output_type": "stream",
       "stream": "stdout",
       "text": [
        "237.0 0.95951417004 237.0 0.95951417004 237.0 0.95951417004 247.0 1.0 247.0 "
       ]
      },
      {
       "output_type": "stream",
       "stream": "stdout",
       "text": [
        "1.0 247.0 1.0 247.0 1.0 247.0 "
       ]
      },
      {
       "output_type": "stream",
       "stream": "stdout",
       "text": [
        "1.0 247.0 1.0 235.0 0.951417004049 "
       ]
      },
      {
       "output_type": "stream",
       "stream": "stdout",
       "text": [
        "235.0 0.951417004049 235.0 0.951417004049 210.0 "
       ]
      },
      {
       "output_type": "stream",
       "stream": "stdout",
       "text": [
        "0.85020242915 210.0 0.85020242915 210.0 0.85020242915 "
       ]
      },
      {
       "output_type": "stream",
       "stream": "stdout",
       "text": [
        "237.0 0.95951417004 237.0 0.95951417004 235.0 "
       ]
      },
      {
       "output_type": "stream",
       "stream": "stdout",
       "text": [
        "0.951417004049 235.0 0.951417004049 235.0 "
       ]
      },
      {
       "output_type": "stream",
       "stream": "stdout",
       "text": [
        "0.951417004049 235.0 0.951417004049 203.0 0.821862348178 198.0 "
       ]
      },
      {
       "output_type": "stream",
       "stream": "stdout",
       "text": [
        "0.801619433198 195.0 0.789473684211 195.0 0.789473684211 "
       ]
      },
      {
       "output_type": "stream",
       "stream": "stdout",
       "text": [
        "210.0 0.85020242915 210.0 0.85020242915 210.0 0.85020242915 "
       ]
      },
      {
       "output_type": "stream",
       "stream": "stdout",
       "text": [
        "210.0 0.85020242915 210.0 0.85020242915 190.0 "
       ]
      },
      {
       "output_type": "stream",
       "stream": "stdout",
       "text": [
        "0.769230769231 190.0 0.769230769231 190.0 0.769230769231 "
       ]
      },
      {
       "output_type": "stream",
       "stream": "stdout",
       "text": [
        "185.0 0.748987854251 210.0 0.85020242915 210.0 0.85020242915 "
       ]
      },
      {
       "output_type": "stream",
       "stream": "stdout",
       "text": [
        "210.0 0.85020242915 210.0 0.85020242915 "
       ]
      },
      {
       "output_type": "stream",
       "stream": "stdout",
       "text": [
        "210.0 0.85020242915 210.0 0.85020242915 210.0 0.85020242915 "
       ]
      },
      {
       "output_type": "stream",
       "stream": "stdout",
       "text": [
        "210.0 0.85020242915 210.0 0.85020242915 198.0 "
       ]
      },
      {
       "output_type": "stream",
       "stream": "stdout",
       "text": [
        "0.801619433198 198.0 0.801619433198 195.0 0.789473684211 199.0 "
       ]
      },
      {
       "output_type": "stream",
       "stream": "stdout",
       "text": [
        "0.805668016194 199.0 0.805668016194 199.0 0.805668016194 199.0 "
       ]
      },
      {
       "output_type": "stream",
       "stream": "stdout",
       "text": [
        "0.805668016194 199.0 0.805668016194 199.0 0.805668016194 "
       ]
      },
      {
       "output_type": "stream",
       "stream": "stdout",
       "text": [
        "190.0 0.769230769231 190.0 0.769230769231 190.0 "
       ]
      },
      {
       "output_type": "stream",
       "stream": "stdout",
       "text": [
        "0.769230769231 195.0 0.789473684211 195.0 "
       ]
      },
      {
       "output_type": "stream",
       "stream": "stdout",
       "text": [
        "0.789473684211 195.0 0.789473684211 195.0 0.789473684211 "
       ]
      },
      {
       "output_type": "stream",
       "stream": "stdout",
       "text": [
        "195.0 0.789473684211 187.0 "
       ]
      },
      {
       "output_type": "stream",
       "stream": "stdout",
       "text": [
        "0.757085020243 185.0 0.748987854251 185.0 0.748987854251 185.0 "
       ]
      },
      {
       "output_type": "stream",
       "stream": "stdout",
       "text": [
        "0.748987854251 185.0 0.748987854251 190.0 0.769230769231 190.0 "
       ]
      },
      {
       "output_type": "stream",
       "stream": "stdout",
       "text": [
        "0.769230769231 190.0 0.769230769231 190.0 "
       ]
      },
      {
       "output_type": "stream",
       "stream": "stdout",
       "text": [
        "0.769230769231 190.0 0.769230769231 190.0 0.769230769231 190.0 "
       ]
      },
      {
       "output_type": "stream",
       "stream": "stdout",
       "text": [
        "0.769230769231 190.0 0.769230769231 190.0 "
       ]
      },
      {
       "output_type": "stream",
       "stream": "stdout",
       "text": [
        "0.769230769231 187.0 0.757085020243 187.0 0.757085020243 187.0 "
       ]
      },
      {
       "output_type": "stream",
       "stream": "stdout",
       "text": [
        "0.757085020243 187.0 0.757085020243 187.0 0.757085020243 187.0 "
       ]
      },
      {
       "output_type": "stream",
       "stream": "stdout",
       "text": [
        "0.757085020243\n",
        "237.0"
       ]
      },
      {
       "output_type": "stream",
       "stream": "stdout",
       "text": [
        " 0.95951417004 237.0 0.95951417004 237.0 0.95951417004 "
       ]
      },
      {
       "output_type": "stream",
       "stream": "stdout",
       "text": [
        "237.0 0.95951417004 237.0 0.95951417004 237.0 0.95951417004 "
       ]
      },
      {
       "output_type": "stream",
       "stream": "stdout",
       "text": [
        "235.0 0.951417004049 235.0 0.951417004049 235.0 0.951417004049 "
       ]
      },
      {
       "output_type": "stream",
       "stream": "stdout",
       "text": [
        "235.0 0.951417004049 235.0 0.951417004049 235.0 "
       ]
      },
      {
       "output_type": "stream",
       "stream": "stdout",
       "text": [
        "0.951417004049 235.0 0.951417004049 235.0 0.951417004049 235.0 "
       ]
      },
      {
       "output_type": "stream",
       "stream": "stdout",
       "text": [
        "0.951417004049 235.0 0.951417004049 235.0 0.951417004049 "
       ]
      },
      {
       "output_type": "stream",
       "stream": "stdout",
       "text": [
        "219.0 0.886639676113 219.0 0.886639676113 210.0 0.85020242915 "
       ]
      },
      {
       "output_type": "stream",
       "stream": "stdout",
       "text": [
        "210.0 0.85020242915 210.0 0.85020242915 210.0 "
       ]
      },
      {
       "output_type": "stream",
       "stream": "stdout",
       "text": [
        "0.85020242915 210.0 0.85020242915 210.0 0.85020242915 210.0 "
       ]
      },
      {
       "output_type": "stream",
       "stream": "stdout",
       "text": [
        "0.85020242915 210.0 0.85020242915 210.0 0.85020242915 "
       ]
      },
      {
       "output_type": "stream",
       "stream": "stdout",
       "text": [
        "210.0 0.85020242915 210.0 0.85020242915 210.0 0.85020242915 "
       ]
      },
      {
       "output_type": "stream",
       "stream": "stdout",
       "text": [
        "210.0 0.85020242915 210.0 0.85020242915 210.0 0.85020242915 210.0 "
       ]
      },
      {
       "output_type": "stream",
       "stream": "stdout",
       "text": [
        "0.85020242915 210.0 0.85020242915 210.0 0.85020242915 "
       ]
      },
      {
       "output_type": "stream",
       "stream": "stdout",
       "text": [
        "210.0 0.85020242915 203.0 0.821862348178 203.0 0.821862348178 "
       ]
      },
      {
       "output_type": "stream",
       "stream": "stdout",
       "text": [
        "203.0 0.821862348178 203.0 0.821862348178 199.0 "
       ]
      },
      {
       "output_type": "stream",
       "stream": "stdout",
       "text": [
        "0.805668016194 199.0 0.805668016194 199.0 0.805668016194 198.0 "
       ]
      },
      {
       "output_type": "stream",
       "stream": "stdout",
       "text": [
        "0.801619433198 198.0 0.801619433198 198.0 0.801619433198 "
       ]
      },
      {
       "output_type": "stream",
       "stream": "stdout",
       "text": [
        "198.0 0.801619433198 198.0 0.801619433198 198.0 0.801619433198 "
       ]
      },
      {
       "output_type": "stream",
       "stream": "stdout",
       "text": [
        "190.0 0.769230769231 190.0 0.769230769231 190.0 "
       ]
      },
      {
       "output_type": "stream",
       "stream": "stdout",
       "text": [
        "0.769230769231 190.0 0.769230769231 190.0 0.769230769231 190.0 "
       ]
      },
      {
       "output_type": "stream",
       "stream": "stdout",
       "text": [
        "0.769230769231 190.0 0.769230769231 190.0 "
       ]
      },
      {
       "output_type": "stream",
       "stream": "stdout",
       "text": [
        "0.769230769231 190.0 0.769230769231 190.0 0.769230769231 190.0 "
       ]
      },
      {
       "output_type": "stream",
       "stream": "stdout",
       "text": [
        "0.769230769231 187.0 0.757085020243 187.0 0.757085020243 187.0 "
       ]
      },
      {
       "output_type": "stream",
       "stream": "stdout",
       "text": [
        "0.757085020243 187.0 0.757085020243 187.0 "
       ]
      },
      {
       "output_type": "stream",
       "stream": "stdout",
       "text": [
        "0.757085020243 187.0 0.757085020243 187.0 "
       ]
      },
      {
       "output_type": "stream",
       "stream": "stdout",
       "text": [
        "0.757085020243 187.0 0.757085020243 187.0 "
       ]
      },
      {
       "output_type": "stream",
       "stream": "stdout",
       "text": [
        "0.757085020243 187.0 0.757085020243 187.0 0.757085020243 187.0 "
       ]
      },
      {
       "output_type": "stream",
       "stream": "stdout",
       "text": [
        "0.757085020243 187.0 0.757085020243 186.0 0.753036437247 186.0 "
       ]
      },
      {
       "output_type": "stream",
       "stream": "stdout",
       "text": [
        "0.753036437247 185.0 0.748987854251 185.0 0.748987854251 "
       ]
      },
      {
       "output_type": "stream",
       "stream": "stdout",
       "text": [
        "185.0 0.748987854251\n",
        "235.0"
       ]
      },
      {
       "output_type": "stream",
       "stream": "stdout",
       "text": [
        " 0.951417004049 235.0 0.951417004049 "
       ]
      },
      {
       "output_type": "stream",
       "stream": "stdout",
       "text": [
        "235.0 0.951417004049 "
       ]
      },
      {
       "output_type": "stream",
       "stream": "stdout",
       "text": [
        "235.0 0.951417004049 235.0 "
       ]
      },
      {
       "output_type": "stream",
       "stream": "stdout",
       "text": [
        "0.951417004049 235.0 "
       ]
      },
      {
       "output_type": "stream",
       "stream": "stdout",
       "text": [
        "0.951417004049 "
       ]
      },
      {
       "output_type": "stream",
       "stream": "stdout",
       "text": [
        "235.0 0.951417004049 "
       ]
      },
      {
       "output_type": "stream",
       "stream": "stdout",
       "text": [
        "235.0 "
       ]
      },
      {
       "output_type": "stream",
       "stream": "stdout",
       "text": [
        "0.951417004049 235.0 "
       ]
      },
      {
       "output_type": "stream",
       "stream": "stdout",
       "text": [
        "0.951417004049 235.0 "
       ]
      },
      {
       "output_type": "stream",
       "stream": "stdout",
       "text": [
        "0.951417004049 235.0 0.951417004049 "
       ]
      },
      {
       "output_type": "stream",
       "stream": "stdout",
       "text": [
        "235.0 0.951417004049 "
       ]
      },
      {
       "output_type": "stream",
       "stream": "stdout",
       "text": [
        "235.0 0.951417004049 219.0 "
       ]
      },
      {
       "output_type": "stream",
       "stream": "stdout",
       "text": [
        "0.886639676113 210.0 0.85020242915 210.0 0.85020242915 "
       ]
      },
      {
       "output_type": "stream",
       "stream": "stdout",
       "text": [
        "210.0 0.85020242915 210.0 0.85020242915 210.0 "
       ]
      },
      {
       "output_type": "stream",
       "stream": "stdout",
       "text": [
        "0.85020242915 210.0 0.85020242915 210.0 0.85020242915 210.0 "
       ]
      },
      {
       "output_type": "stream",
       "stream": "stdout",
       "text": [
        "0.85020242915 210.0 0.85020242915 210.0 0.85020242915 "
       ]
      },
      {
       "output_type": "stream",
       "stream": "stdout",
       "text": [
        "210.0 0.85020242915 210.0 0.85020242915 210.0 0.85020242915 "
       ]
      },
      {
       "output_type": "stream",
       "stream": "stdout",
       "text": [
        "210.0 0.85020242915 210.0 0.85020242915 210.0 "
       ]
      },
      {
       "output_type": "stream",
       "stream": "stdout",
       "text": [
        "0.85020242915 210.0 0.85020242915 210.0 "
       ]
      },
      {
       "output_type": "stream",
       "stream": "stdout",
       "text": [
        "0.85020242915 210.0 0.85020242915 210.0 "
       ]
      },
      {
       "output_type": "stream",
       "stream": "stdout",
       "text": [
        "0.85020242915 210.0 0.85020242915 210.0 "
       ]
      },
      {
       "output_type": "stream",
       "stream": "stdout",
       "text": [
        "0.85020242915 210.0 0.85020242915 "
       ]
      },
      {
       "output_type": "stream",
       "stream": "stdout",
       "text": [
        "210.0 0.85020242915 210.0 "
       ]
      },
      {
       "output_type": "stream",
       "stream": "stdout",
       "text": [
        "0.85020242915 210.0 0.85020242915 "
       ]
      },
      {
       "output_type": "stream",
       "stream": "stdout",
       "text": [
        "210.0 0.85020242915 203.0 "
       ]
      },
      {
       "output_type": "stream",
       "stream": "stdout",
       "text": [
        "0.821862348178 203.0 "
       ]
      },
      {
       "output_type": "stream",
       "stream": "stdout",
       "text": [
        "0.821862348178 203.0 "
       ]
      },
      {
       "output_type": "stream",
       "stream": "stdout",
       "text": [
        "0.821862348178 199.0 "
       ]
      },
      {
       "output_type": "stream",
       "stream": "stdout",
       "text": [
        "0.805668016194 199.0 "
       ]
      },
      {
       "output_type": "stream",
       "stream": "stdout",
       "text": [
        "0.805668016194 199.0 "
       ]
      },
      {
       "output_type": "stream",
       "stream": "stdout",
       "text": [
        "0.805668016194 199.0 0.805668016194 "
       ]
      },
      {
       "output_type": "stream",
       "stream": "stdout",
       "text": [
        "199.0 0.805668016194 199.0 "
       ]
      },
      {
       "output_type": "stream",
       "stream": "stdout",
       "text": [
        "0.805668016194 199.0 "
       ]
      },
      {
       "output_type": "stream",
       "stream": "stdout",
       "text": [
        "0.805668016194 199.0 0.805668016194 "
       ]
      },
      {
       "output_type": "stream",
       "stream": "stdout",
       "text": [
        "198.0 0.801619433198 "
       ]
      },
      {
       "output_type": "stream",
       "stream": "stdout",
       "text": [
        "198.0 0.801619433198 "
       ]
      },
      {
       "output_type": "stream",
       "stream": "stdout",
       "text": [
        "198.0 0.801619433198 "
       ]
      },
      {
       "output_type": "stream",
       "stream": "stdout",
       "text": [
        "198.0 0.801619433198 198.0 "
       ]
      },
      {
       "output_type": "stream",
       "stream": "stdout",
       "text": [
        "0.801619433198 198.0 0.801619433198 198.0 0.801619433198 "
       ]
      },
      {
       "output_type": "stream",
       "stream": "stdout",
       "text": [
        "195.0 0.789473684211 "
       ]
      },
      {
       "output_type": "stream",
       "stream": "stdout",
       "text": [
        "195.0 0.789473684211 "
       ]
      },
      {
       "output_type": "stream",
       "stream": "stdout",
       "text": [
        "190.0 0.769230769231 "
       ]
      },
      {
       "output_type": "stream",
       "stream": "stdout",
       "text": [
        "190.0 0.769230769231 "
       ]
      },
      {
       "output_type": "stream",
       "stream": "stdout",
       "text": [
        "190.0 0.769230769231 "
       ]
      },
      {
       "output_type": "stream",
       "stream": "stdout",
       "text": [
        "190.0 0.769230769231 "
       ]
      },
      {
       "output_type": "stream",
       "stream": "stdout",
       "text": [
        "190.0 0.769230769231 "
       ]
      },
      {
       "output_type": "stream",
       "stream": "stdout",
       "text": [
        "190.0 0.769230769231 "
       ]
      },
      {
       "output_type": "stream",
       "stream": "stdout",
       "text": [
        "190.0 0.769230769231 190.0 "
       ]
      },
      {
       "output_type": "stream",
       "stream": "stdout",
       "text": [
        "0.769230769231 190.0 0.769230769231 "
       ]
      },
      {
       "output_type": "stream",
       "stream": "stdout",
       "text": [
        "187.0 0.757085020243 187.0 "
       ]
      },
      {
       "output_type": "stream",
       "stream": "stdout",
       "text": [
        "0.757085020243 187.0 0.757085020243 "
       ]
      },
      {
       "output_type": "stream",
       "stream": "stdout",
       "text": [
        "187.0 0.757085020243 187.0 "
       ]
      },
      {
       "output_type": "stream",
       "stream": "stdout",
       "text": [
        "0.757085020243 187.0 "
       ]
      },
      {
       "output_type": "stream",
       "stream": "stdout",
       "text": [
        "0.757085020243 187.0 0.757085020243 "
       ]
      },
      {
       "output_type": "stream",
       "stream": "stdout",
       "text": [
        "187.0 0.757085020243 187.0 "
       ]
      },
      {
       "output_type": "stream",
       "stream": "stdout",
       "text": [
        "0.757085020243 187.0 "
       ]
      },
      {
       "output_type": "stream",
       "stream": "stdout",
       "text": [
        "0.757085020243\n",
        "237.0"
       ]
      },
      {
       "output_type": "stream",
       "stream": "stdout",
       "text": [
        " 0.95951417004 235.0 0.951417004049 235.0 "
       ]
      },
      {
       "output_type": "stream",
       "stream": "stdout",
       "text": [
        "0.951417004049 235.0 0.951417004049 235.0 "
       ]
      },
      {
       "output_type": "stream",
       "stream": "stdout",
       "text": [
        "0.951417004049 235.0 0.951417004049 235.0 0.951417004049 "
       ]
      },
      {
       "output_type": "stream",
       "stream": "stdout",
       "text": [
        "235.0 0.951417004049 235.0 0.951417004049 235.0 "
       ]
      },
      {
       "output_type": "stream",
       "stream": "stdout",
       "text": [
        "0.951417004049 235.0 0.951417004049 235.0 0.951417004049 "
       ]
      },
      {
       "output_type": "stream",
       "stream": "stdout",
       "text": [
        "235.0 0.951417004049 235.0 0.951417004049 235.0 "
       ]
      },
      {
       "output_type": "stream",
       "stream": "stdout",
       "text": [
        "0.951417004049 235.0 0.951417004049 235.0 "
       ]
      },
      {
       "output_type": "stream",
       "stream": "stdout",
       "text": [
        "0.951417004049 235.0 0.951417004049 235.0 "
       ]
      },
      {
       "output_type": "stream",
       "stream": "stdout",
       "text": [
        "0.951417004049 235.0 0.951417004049 219.0 0.886639676113 "
       ]
      },
      {
       "output_type": "stream",
       "stream": "stdout",
       "text": [
        "219.0 0.886639676113 219.0 0.886639676113 219.0 "
       ]
      },
      {
       "output_type": "stream",
       "stream": "stdout",
       "text": [
        "0.886639676113 219.0 0.886639676113 219.0 0.886639676113 210.0 "
       ]
      },
      {
       "output_type": "stream",
       "stream": "stdout",
       "text": [
        "0.85020242915 210.0 0.85020242915 210.0 0.85020242915 "
       ]
      },
      {
       "output_type": "stream",
       "stream": "stdout",
       "text": [
        "210.0 0.85020242915 210.0 0.85020242915 210.0 "
       ]
      },
      {
       "output_type": "stream",
       "stream": "stdout",
       "text": [
        "0.85020242915 210.0 0.85020242915 210.0 0.85020242915 "
       ]
      },
      {
       "output_type": "stream",
       "stream": "stdout",
       "text": [
        "210.0 0.85020242915 210.0 0.85020242915 210.0 "
       ]
      },
      {
       "output_type": "stream",
       "stream": "stdout",
       "text": [
        "0.85020242915 210.0 0.85020242915 210.0 0.85020242915 210.0 "
       ]
      },
      {
       "output_type": "stream",
       "stream": "stdout",
       "text": [
        "0.85020242915 210.0 0.85020242915 210.0 0.85020242915 "
       ]
      },
      {
       "output_type": "stream",
       "stream": "stdout",
       "text": [
        "210.0 0.85020242915 210.0 0.85020242915 210.0 "
       ]
      },
      {
       "output_type": "stream",
       "stream": "stdout",
       "text": [
        "0.85020242915 210.0 0.85020242915 210.0 0.85020242915 "
       ]
      },
      {
       "output_type": "stream",
       "stream": "stdout",
       "text": [
        "210.0 0.85020242915 210.0 0.85020242915 "
       ]
      },
      {
       "output_type": "stream",
       "stream": "stdout",
       "text": [
        "210.0 0.85020242915 "
       ]
      },
      {
       "output_type": "stream",
       "stream": "stdout",
       "text": [
        "203.0 0.821862348178 199.0 "
       ]
      },
      {
       "output_type": "stream",
       "stream": "stdout",
       "text": [
        "0.805668016194 199.0 "
       ]
      },
      {
       "output_type": "stream",
       "stream": "stdout",
       "text": [
        "0.805668016194 199.0 0.805668016194 "
       ]
      },
      {
       "output_type": "stream",
       "stream": "stdout",
       "text": [
        "199.0 0.805668016194 199.0 "
       ]
      },
      {
       "output_type": "stream",
       "stream": "stdout",
       "text": [
        "0.805668016194 199.0 0.805668016194 "
       ]
      },
      {
       "output_type": "stream",
       "stream": "stdout",
       "text": [
        "199.0 0.805668016194 198.0 0.801619433198 "
       ]
      },
      {
       "output_type": "stream",
       "stream": "stdout",
       "text": [
        "198.0 0.801619433198 198.0 "
       ]
      },
      {
       "output_type": "stream",
       "stream": "stdout",
       "text": [
        "0.801619433198 198.0 0.801619433198 198.0 0.801619433198 "
       ]
      },
      {
       "output_type": "stream",
       "stream": "stdout",
       "text": [
        "198.0 0.801619433198 195.0 0.789473684211 195.0 "
       ]
      },
      {
       "output_type": "stream",
       "stream": "stdout",
       "text": [
        "0.789473684211 195.0 0.789473684211 195.0 0.789473684211 "
       ]
      },
      {
       "output_type": "stream",
       "stream": "stdout",
       "text": [
        "195.0 0.789473684211 195.0 0.789473684211 "
       ]
      },
      {
       "output_type": "stream",
       "stream": "stdout",
       "text": [
        "195.0 0.789473684211 190.0 0.769230769231 "
       ]
      },
      {
       "output_type": "stream",
       "stream": "stdout",
       "text": [
        "190.0 0.769230769231 190.0 0.769230769231 190.0 "
       ]
      },
      {
       "output_type": "stream",
       "stream": "stdout",
       "text": [
        "0.769230769231 190.0 0.769230769231 190.0 0.769230769231 "
       ]
      },
      {
       "output_type": "stream",
       "stream": "stdout",
       "text": [
        "190.0 0.769230769231 190.0 0.769230769231 "
       ]
      },
      {
       "output_type": "stream",
       "stream": "stdout",
       "text": [
        "190.0 0.769230769231\n"
       ]
      },
      {
       "ename": "KeyboardInterrupt",
       "evalue": "",
       "output_type": "pyerr",
       "traceback": [
        "\u001b[0;31m---------------------------------------------------------------------------\u001b[0m\n\u001b[0;31mKeyboardInterrupt\u001b[0m                         Traceback (most recent call last)",
        "\u001b[0;32m<ipython-input-40-b8f965c59e89>\u001b[0m in \u001b[0;36m<module>\u001b[0;34m()\u001b[0m\n\u001b[1;32m     15\u001b[0m \u001b[0mlast_sampels\u001b[0m \u001b[0;34m=\u001b[0m \u001b[0;34m[\u001b[0m\u001b[0;34m]\u001b[0m\u001b[0;34m\u001b[0m\u001b[0m\n\u001b[1;32m     16\u001b[0m \u001b[0;32mfor\u001b[0m \u001b[0mi\u001b[0m \u001b[0;32min\u001b[0m \u001b[0mxrange\u001b[0m\u001b[0;34m(\u001b[0m\u001b[0;36m10\u001b[0m\u001b[0;34m)\u001b[0m\u001b[0;34m:\u001b[0m\u001b[0;34m\u001b[0m\u001b[0m\n\u001b[0;32m---> 17\u001b[0;31m     \u001b[0msamples\u001b[0m \u001b[0;34m=\u001b[0m \u001b[0mm\u001b[0m\u001b[0;34m.\u001b[0m\u001b[0mfit\u001b[0m\u001b[0;34m(\u001b[0m\u001b[0mpost_process_samples\u001b[0m\u001b[0;34m)\u001b[0m\u001b[0;34m\u001b[0m\u001b[0m\n\u001b[0m\u001b[1;32m     18\u001b[0m     \u001b[0;32mif\u001b[0m \u001b[0mlast_sampels\u001b[0m \u001b[0;34m==\u001b[0m \u001b[0;34m[\u001b[0m\u001b[0mget_by_params\u001b[0m\u001b[0;34m(\u001b[0m\u001b[0ms\u001b[0m\u001b[0;34m)\u001b[0m \u001b[0;32mfor\u001b[0m \u001b[0ms\u001b[0m \u001b[0;32min\u001b[0m \u001b[0msamples\u001b[0m\u001b[0;34m]\u001b[0m\u001b[0;34m:\u001b[0m\u001b[0;34m\u001b[0m\u001b[0m\n\u001b[1;32m     19\u001b[0m         \u001b[0msamples\u001b[0m \u001b[0;34m=\u001b[0m \u001b[0mm\u001b[0m\u001b[0;34m.\u001b[0m\u001b[0mfit\u001b[0m\u001b[0;34m(\u001b[0m\u001b[0;34m)\u001b[0m\u001b[0;34m\u001b[0m\u001b[0m\n",
        "\u001b[0;32m/Users/yarnaid/Dropbox/fl/random_search/mimic.pyc\u001b[0m in \u001b[0;36mfit\u001b[0;34m(self, post_process_samples)\u001b[0m\n\u001b[1;32m     46\u001b[0m             \u001b[0mself\u001b[0m\u001b[0;34m.\u001b[0m\u001b[0mfitness_function\u001b[0m\u001b[0;34m,\u001b[0m\u001b[0;34m\u001b[0m\u001b[0m\n\u001b[1;32m     47\u001b[0m         )\n\u001b[0;32m---> 48\u001b[0;31m         \u001b[0;32mreturn\u001b[0m \u001b[0mself\u001b[0m\u001b[0;34m.\u001b[0m\u001b[0msample_set\u001b[0m\u001b[0;34m.\u001b[0m\u001b[0mget_percentile\u001b[0m\u001b[0;34m(\u001b[0m\u001b[0mself\u001b[0m\u001b[0;34m.\u001b[0m\u001b[0mpercentile\u001b[0m\u001b[0;34m)\u001b[0m\u001b[0;34m\u001b[0m\u001b[0m\n\u001b[0m\u001b[1;32m     49\u001b[0m \u001b[0;34m\u001b[0m\u001b[0m\n\u001b[1;32m     50\u001b[0m     \u001b[0;32mdef\u001b[0m \u001b[0m_generate_initial_samples\u001b[0m\u001b[0;34m(\u001b[0m\u001b[0mself\u001b[0m\u001b[0;34m)\u001b[0m\u001b[0;34m:\u001b[0m\u001b[0;34m\u001b[0m\u001b[0m\n",
        "\u001b[0;32m/Users/yarnaid/Dropbox/fl/random_search/mimic.pyc\u001b[0m in \u001b[0;36mget_percentile\u001b[0;34m(self, percentile)\u001b[0m\n\u001b[1;32m     71\u001b[0m \u001b[0;34m\u001b[0m\u001b[0m\n\u001b[1;32m     72\u001b[0m     \u001b[0;32mdef\u001b[0m \u001b[0mget_percentile\u001b[0m\u001b[0;34m(\u001b[0m\u001b[0mself\u001b[0m\u001b[0;34m,\u001b[0m \u001b[0mpercentile\u001b[0m\u001b[0;34m)\u001b[0m\u001b[0;34m:\u001b[0m\u001b[0;34m\u001b[0m\u001b[0m\n\u001b[0;32m---> 73\u001b[0;31m         \u001b[0mfit_samples\u001b[0m \u001b[0;34m=\u001b[0m \u001b[0mself\u001b[0m\u001b[0;34m.\u001b[0m\u001b[0mcalculate_fitness\u001b[0m\u001b[0;34m(\u001b[0m\u001b[0;34m)\u001b[0m\u001b[0;34m\u001b[0m\u001b[0m\n\u001b[0m\u001b[1;32m     74\u001b[0m         \u001b[0mindex\u001b[0m \u001b[0;34m=\u001b[0m \u001b[0mint\u001b[0m\u001b[0;34m(\u001b[0m\u001b[0mlen\u001b[0m\u001b[0;34m(\u001b[0m\u001b[0mfit_samples\u001b[0m\u001b[0;34m)\u001b[0m \u001b[0;34m*\u001b[0m \u001b[0mpercentile\u001b[0m\u001b[0;34m)\u001b[0m\u001b[0;34m\u001b[0m\u001b[0m\n\u001b[1;32m     75\u001b[0m         \u001b[0;32mreturn\u001b[0m \u001b[0mfit_samples\u001b[0m\u001b[0;34m[\u001b[0m\u001b[0;34m:\u001b[0m\u001b[0mindex\u001b[0m\u001b[0;34m]\u001b[0m\u001b[0;34m\u001b[0m\u001b[0m\n",
        "\u001b[0;32m/Users/yarnaid/Dropbox/fl/random_search/mimic.pyc\u001b[0m in \u001b[0;36mcalculate_fitness\u001b[0;34m(self)\u001b[0m\n\u001b[1;32m     66\u001b[0m             \u001b[0mself\u001b[0m\u001b[0;34m.\u001b[0m\u001b[0msamples\u001b[0m\u001b[0;34m,\u001b[0m\u001b[0;34m\u001b[0m\u001b[0m\n\u001b[1;32m     67\u001b[0m             \u001b[0mkey\u001b[0m\u001b[0;34m=\u001b[0m\u001b[0mself\u001b[0m\u001b[0;34m.\u001b[0m\u001b[0mfitness_function\u001b[0m\u001b[0;34m,\u001b[0m\u001b[0;34m\u001b[0m\u001b[0m\n\u001b[0;32m---> 68\u001b[0;31m             \u001b[0mreverse\u001b[0m\u001b[0;34m=\u001b[0m\u001b[0mself\u001b[0m\u001b[0;34m.\u001b[0m\u001b[0mmaximize\u001b[0m\u001b[0;34m,\u001b[0m\u001b[0;34m\u001b[0m\u001b[0m\n\u001b[0m\u001b[1;32m     69\u001b[0m         )\n\u001b[1;32m     70\u001b[0m         \u001b[0;32mreturn\u001b[0m \u001b[0mnp\u001b[0m\u001b[0;34m.\u001b[0m\u001b[0marray\u001b[0m\u001b[0;34m(\u001b[0m\u001b[0msorted_samples\u001b[0m\u001b[0;34m)\u001b[0m\u001b[0;34m\u001b[0m\u001b[0m\n",
        "\u001b[0;32m<ipython-input-40-b8f965c59e89>\u001b[0m in \u001b[0;36mfitness_function\u001b[0;34m(params)\u001b[0m\n\u001b[1;32m      1\u001b[0m \u001b[0mreload\u001b[0m\u001b[0;34m(\u001b[0m\u001b[0mmimic\u001b[0m\u001b[0;34m)\u001b[0m\u001b[0;34m\u001b[0m\u001b[0m\n\u001b[1;32m      2\u001b[0m \u001b[0;32mdef\u001b[0m \u001b[0mfitness_function\u001b[0m\u001b[0;34m(\u001b[0m\u001b[0mparams\u001b[0m\u001b[0;34m)\u001b[0m\u001b[0;34m:\u001b[0m\u001b[0;34m\u001b[0m\u001b[0m\n\u001b[0;32m----> 3\u001b[0;31m     \u001b[0mv\u001b[0m \u001b[0;34m=\u001b[0m \u001b[0mget_by_params\u001b[0m\u001b[0;34m(\u001b[0m\u001b[0mparams\u001b[0m\u001b[0;34m)\u001b[0m\u001b[0;34m\u001b[0m\u001b[0m\n\u001b[0m\u001b[1;32m      4\u001b[0m     \u001b[0;32mif\u001b[0m \u001b[0mlen\u001b[0m\u001b[0;34m(\u001b[0m\u001b[0mv\u001b[0m\u001b[0;34m)\u001b[0m \u001b[0;34m>\u001b[0m \u001b[0;36m0\u001b[0m\u001b[0;34m:\u001b[0m\u001b[0;34m\u001b[0m\u001b[0m\n\u001b[1;32m      5\u001b[0m         \u001b[0mres\u001b[0m \u001b[0;34m=\u001b[0m \u001b[0mv\u001b[0m\u001b[0;34m.\u001b[0m\u001b[0miloc\u001b[0m\u001b[0;34m[\u001b[0m\u001b[0;36m0\u001b[0m\u001b[0;34m]\u001b[0m\u001b[0;34m[\u001b[0m\u001b[0;34m-\u001b[0m\u001b[0;36m1\u001b[0m\u001b[0;34m]\u001b[0m\u001b[0;34m\u001b[0m\u001b[0m\n",
        "\u001b[0;32m<ipython-input-39-a8d34638b38d>\u001b[0m in \u001b[0;36mget_by_params\u001b[0;34m(params)\u001b[0m\n\u001b[1;32m      4\u001b[0m     \u001b[0mcond\u001b[0m \u001b[0;34m=\u001b[0m \u001b[0mdf\u001b[0m\u001b[0;34m[\u001b[0m\u001b[0mdf\u001b[0m\u001b[0;34m.\u001b[0m\u001b[0mcolumns\u001b[0m\u001b[0;34m[\u001b[0m\u001b[0;36m1\u001b[0m\u001b[0;34m]\u001b[0m\u001b[0;34m]\u001b[0m\u001b[0;34m.\u001b[0m\u001b[0misin\u001b[0m\u001b[0;34m(\u001b[0m\u001b[0;34m[\u001b[0m\u001b[0mparams\u001b[0m\u001b[0;34m[\u001b[0m\u001b[0;36m0\u001b[0m\u001b[0;34m]\u001b[0m\u001b[0;34m]\u001b[0m\u001b[0;34m)\u001b[0m\u001b[0;34m\u001b[0m\u001b[0m\n\u001b[1;32m      5\u001b[0m     \u001b[0;32mfor\u001b[0m \u001b[0mi\u001b[0m \u001b[0;32min\u001b[0m \u001b[0mxrange\u001b[0m\u001b[0;34m(\u001b[0m\u001b[0;36m1\u001b[0m\u001b[0;34m,\u001b[0m \u001b[0mlen\u001b[0m\u001b[0;34m(\u001b[0m\u001b[0mparams\u001b[0m\u001b[0;34m)\u001b[0m\u001b[0;34m)\u001b[0m\u001b[0;34m:\u001b[0m\u001b[0;34m\u001b[0m\u001b[0m\n\u001b[0;32m----> 6\u001b[0;31m         \u001b[0mcond\u001b[0m \u001b[0;34m=\u001b[0m \u001b[0mcond\u001b[0m \u001b[0;34m&\u001b[0m \u001b[0mdf\u001b[0m\u001b[0;34m[\u001b[0m\u001b[0mdf\u001b[0m\u001b[0;34m.\u001b[0m\u001b[0mcolumns\u001b[0m\u001b[0;34m[\u001b[0m\u001b[0mi\u001b[0m\u001b[0;34m+\u001b[0m\u001b[0;36m1\u001b[0m\u001b[0;34m]\u001b[0m\u001b[0;34m]\u001b[0m\u001b[0;34m.\u001b[0m\u001b[0misin\u001b[0m\u001b[0;34m(\u001b[0m\u001b[0;34m[\u001b[0m\u001b[0mparams\u001b[0m\u001b[0;34m[\u001b[0m\u001b[0mi\u001b[0m\u001b[0;34m]\u001b[0m\u001b[0;34m]\u001b[0m\u001b[0;34m)\u001b[0m\u001b[0;34m\u001b[0m\u001b[0m\n\u001b[0m\u001b[1;32m      7\u001b[0m     \u001b[0mres\u001b[0m \u001b[0;34m=\u001b[0m \u001b[0mdf\u001b[0m\u001b[0;34m[\u001b[0m\u001b[0mcond\u001b[0m\u001b[0;34m]\u001b[0m\u001b[0;34m\u001b[0m\u001b[0m\n\u001b[1;32m      8\u001b[0m     \u001b[0;32mif\u001b[0m \u001b[0mlen\u001b[0m\u001b[0;34m(\u001b[0m\u001b[0mres\u001b[0m\u001b[0;34m)\u001b[0m \u001b[0;34m<\u001b[0m \u001b[0;36m1\u001b[0m\u001b[0;34m:\u001b[0m\u001b[0;34m\u001b[0m\u001b[0m\n",
        "\u001b[0;32m/Library/Python/2.7/site-packages/pandas/core/series.pyc\u001b[0m in \u001b[0;36misin\u001b[0;34m(self, values)\u001b[0m\n\u001b[1;32m   2246\u001b[0m \u001b[0;34m\u001b[0m\u001b[0m\n\u001b[1;32m   2247\u001b[0m         \u001b[0mvalue_set\u001b[0m \u001b[0;34m=\u001b[0m \u001b[0mset\u001b[0m\u001b[0;34m(\u001b[0m\u001b[0mvalues\u001b[0m\u001b[0;34m)\u001b[0m\u001b[0;34m\u001b[0m\u001b[0m\n\u001b[0;32m-> 2248\u001b[0;31m         \u001b[0mresult\u001b[0m \u001b[0;34m=\u001b[0m \u001b[0mlib\u001b[0m\u001b[0;34m.\u001b[0m\u001b[0mismember\u001b[0m\u001b[0;34m(\u001b[0m\u001b[0mcomps\u001b[0m\u001b[0;34m,\u001b[0m \u001b[0mvalue_set\u001b[0m\u001b[0;34m)\u001b[0m\u001b[0;34m\u001b[0m\u001b[0m\n\u001b[0m\u001b[1;32m   2249\u001b[0m         \u001b[0;32mreturn\u001b[0m \u001b[0mself\u001b[0m\u001b[0;34m.\u001b[0m\u001b[0m_constructor\u001b[0m\u001b[0;34m(\u001b[0m\u001b[0mresult\u001b[0m\u001b[0;34m,\u001b[0m \u001b[0mindex\u001b[0m\u001b[0;34m=\u001b[0m\u001b[0mself\u001b[0m\u001b[0;34m.\u001b[0m\u001b[0mindex\u001b[0m\u001b[0;34m)\u001b[0m\u001b[0;34m.\u001b[0m\u001b[0m__finalize__\u001b[0m\u001b[0;34m(\u001b[0m\u001b[0mself\u001b[0m\u001b[0;34m)\u001b[0m\u001b[0;34m\u001b[0m\u001b[0m\n\u001b[1;32m   2250\u001b[0m \u001b[0;34m\u001b[0m\u001b[0m\n",
        "\u001b[0;31mKeyboardInterrupt\u001b[0m: "
       ]
      }
     ],
     "prompt_number": 40
    },
    {
     "cell_type": "code",
     "collapsed": false,
     "input": [
      "m.distribution.generate_samples(5)"
     ],
     "language": "python",
     "metadata": {},
     "outputs": [
      {
       "metadata": {},
       "output_type": "pyout",
       "prompt_number": 68,
       "text": [
        "[companyId              46\n",
        " jobType                 0\n",
        " degree                  1\n",
        " major                   1\n",
        " industry                1\n",
        " yearsExperience         2\n",
        " milesFromMetropolis     7\n",
        " Name: 3517, dtype: float64, companyId              12\n",
        " jobType                 2\n",
        " degree                  0\n",
        " major                   1\n",
        " industry                4\n",
        " yearsExperience         1\n",
        " milesFromMetropolis     1\n",
        " Name: 2116, dtype: float64, companyId              4\n",
        " jobType                1\n",
        " degree                 0\n",
        " major                  0\n",
        " industry               3\n",
        " yearsExperience        2\n",
        " milesFromMetropolis    1\n",
        " Name: 4865, dtype: float64, companyId              6\n",
        " jobType                3\n",
        " degree                 1\n",
        " major                  2\n",
        " industry               0\n",
        " yearsExperience        5\n",
        " milesFromMetropolis    3\n",
        " Name: 4685, dtype: float64, companyId              46\n",
        " jobType                 0\n",
        " degree                  1\n",
        " major                   1\n",
        " industry                1\n",
        " yearsExperience         2\n",
        " milesFromMetropolis     7\n",
        " Name: 3517, dtype: float64]"
       ]
      }
     ],
     "prompt_number": 68
    }
   ],
   "metadata": {}
  }
 ]
}