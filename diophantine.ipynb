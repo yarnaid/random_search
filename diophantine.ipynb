{
 "metadata": {
  "name": "",
  "signature": "sha256:a0ec1456873681bae0f3304f695447bbe0cc97ade25b443dd31171ff7609c547"
 },
 "nbformat": 3,
 "nbformat_minor": 0,
 "worksheets": [
  {
   "cells": [
    {
     "cell_type": "heading",
     "level": 1,
     "metadata": {},
     "source": [
      "Diophantine"
     ]
    },
    {
     "cell_type": "markdown",
     "metadata": {},
     "source": [
      "The task is to solve diophantine equation. It's equation like $xa + yb + zc = d$.\n",
      "\n",
      "Or more common: $\\sum \\pmb{x} \\cdot \\pmb{a} = b$, $\\pmb{x} = \\{ x_i: x_i \\in \\mathbb{N} \\}$, $\\pmb{a} = \\{ a_i: a_i \\in \\mathbb{N} \\}$"
     ]
    },
    {
     "cell_type": "heading",
     "level": 4,
     "metadata": {},
     "source": [
      "Create equation"
     ]
    },
    {
     "cell_type": "code",
     "collapsed": false,
     "input": [
      "import numpy as np\n",
      "from matplotlib.path import Path\n",
      "import matplotlib.patches as patches\n",
      "from matplotlib import  pyplot as plt\n",
      "import seaborn as sns\n",
      "sns.set(style=\"white\")\n",
      "%matplotlib inline"
     ],
     "language": "python",
     "metadata": {},
     "outputs": [],
     "prompt_number": 1
    },
    {
     "cell_type": "markdown",
     "metadata": {},
     "source": [
      "To use it with `pybran` algorithms we have to implement new class as subclass of `ParameterContainer`."
     ]
    },
    {
     "cell_type": "code",
     "collapsed": false,
     "input": [
      "class Diophantine(object):\n",
      "    ''' class for diophantine equation with usefull methods '''\n",
      "    def __init__(self, a, b):\n",
      "        self.a = np.asarray(a)\n",
      "        self.b = b\n",
      "    \n",
      "    def __call__(self, x):\n",
      "        return abs(sum(np.asarray(x) * self.a) - self.b)\n",
      "    \n",
      "    def random_x(self):\n",
      "        return np.random.randint(1, self.b, size=len(self.a))"
     ],
     "language": "python",
     "metadata": {},
     "outputs": [],
     "prompt_number": 2
    },
    {
     "cell_type": "code",
     "collapsed": false,
     "input": [
      "from pybrain.structure.parametercontainer import ParameterContainer\n",
      "\n",
      "class Solution(ParameterContainer):\n",
      "    ''' general solution class '''\n",
      "    def __init__(self, x, diophantine):\n",
      "        self.diophantine = diophantine\n",
      "        super(Solution, self).__init__(len(x), stdParams=0)\n",
      "        self._params = x\n",
      "        \n",
      "    def mutate(self):\n",
      "        pos1 = np.random.randint(0, self.paramdim)\n",
      "        self._params[pos1] = np.random.randint(0, self.diophantine.b)\n",
      "        \n",
      "    def randomize(self):\n",
      "        max_value = self.diophantine.b  # max value of any x_i is b\n",
      "        res = np.random.randint(0, max_value, size=self.paramdim)\n",
      "        self._params = res\n",
      "        \n",
      "        \n",
      "    def copy(self):\n",
      "        return Solution(self._params, self.diophantine)\n",
      "        \n",
      "    def resetDerivatives(self):\n",
      "        '''\n",
      "        not needed, not to be this class abstract\n",
      "        '''\n",
      "        assert self.hasDerivatives\n",
      "        np.random.shuffle(self._derivs)\n",
      "\n",
      "    def __repr__(self):\n",
      "        return 'x = {}'.format(self._params)\n",
      "    \n",
      "    def get_dif(self):\n",
      "        return self.diophantine(self._params)"
     ],
     "language": "python",
     "metadata": {},
     "outputs": [],
     "prompt_number": 3
    },
    {
     "cell_type": "code",
     "collapsed": false,
     "input": [
      "def optimize(method, problem, steps=20, minimize=True, verbose=True, temperature=1.0):\n",
      "    solver = method(lambda x: x.get_dif(), problem, minimize=minimize, verbose=verbose, temperature=temperature)\n",
      "    res = solver.learn(steps)\n",
      "    return res"
     ],
     "language": "python",
     "metadata": {},
     "outputs": [],
     "prompt_number": 4
    },
    {
     "cell_type": "code",
     "collapsed": false,
     "input": [
      "from pybrain.optimization import GA, StochasticHillClimber, HillClimber"
     ],
     "language": "python",
     "metadata": {},
     "outputs": [],
     "prompt_number": 5
    },
    {
     "cell_type": "code",
     "collapsed": false,
     "input": [
      "from random import choice, random\n",
      "\n",
      "class DGA(GA):\n",
      "    ''' Discrete GA '''\n",
      "    def __init__(self, evaluator = None, initEvaluable = None, **kwargs):\n",
      "        self._equation = initEvaluable\n",
      "        super(DGA, self).__init__(evaluator, initEvaluable, **kwargs)\n",
      "    def initPopulation(self):\n",
      "        if self.initialPopulation is not None:\n",
      "            self.currentpop = self.initialPopulation\n",
      "        else:\n",
      "            self.currentpop = [self._initEvaluable]\n",
      "            for _ in range(self.populationSize-1):\n",
      "                new_indiv = self._equation.diophantine.random_x()\n",
      "                self.currentpop.append(new_indiv)\n",
      "            \n",
      "    def mutated(self, indiv):\n",
      "        \"\"\" mutate some genes of the given individual \"\"\"\n",
      "        res = indiv.copy()\n",
      "        for i in xrange(0, self.numParameters-1):\n",
      "            if random() < self.mutationProb:\n",
      "                res[i], res[i+1] = indiv[i+1], indiv[i]\n",
      "        return res\n"
     ],
     "language": "python",
     "metadata": {},
     "outputs": [],
     "prompt_number": 6
    },
    {
     "cell_type": "code",
     "collapsed": false,
     "input": [
      "size = 5\n",
      "coef = np.random.randint(1, size + 1, size=size)\n",
      "b = size * 3\n",
      "diop = Diophantine(coef, b)"
     ],
     "language": "python",
     "metadata": {},
     "outputs": [],
     "prompt_number": 7
    },
    {
     "cell_type": "code",
     "collapsed": true,
     "input": [
      "def run_method(method, diophantine=None, size=5, steps=50, temperature=1, verbose=True):\n",
      "    ''' shortcut '''\n",
      "    if diophantine is None:\n",
      "        coef = np.random.randint(1, size + 1, size=size)\n",
      "        b = size * 3\n",
      "        d = Diophantine(coef, b)\n",
      "    else:\n",
      "        d = diophantine\n",
      "        b = d.b\n",
      "        coef = d.a\n",
      "    rand_x = d.random_x()\n",
      "    s = Solution(rand_x, d)\n",
      "    best_solution, best_score = optimize(HillClimber, s, steps=steps, temperature=temperature, verbose=verbose)\n",
      "    print best_solution, coef, b, 'Best scores:', best_score\n",
      "    return best_solution, best_score"
     ],
     "language": "python",
     "metadata": {},
     "outputs": [],
     "prompt_number": 8
    },
    {
     "cell_type": "code",
     "collapsed": false,
     "input": [
      "run_method(HillClimber, diop)"
     ],
     "language": "python",
     "metadata": {},
     "outputs": [
      {
       "output_type": "stream",
       "stream": "stdout",
       "text": [
        "Warning: parameter name temperature not found!\n",
        "Step: 0 best: 121\n",
        "Step: 1 best: 109\n",
        "Step: 2 best: 77\n",
        "Step: 3 best: 77\n",
        "Step: 4 best: 77\n",
        "Step: 5 best: 77\n",
        "Step: 6 best: 71\n",
        "Step: 7 best: 47\n",
        "Step: 8 best: 47\n",
        "Step: 9 best: 47\n",
        "Step: 10 best: 47\n",
        "Step: 11 best: 47\n",
        "Step: 12 best: 47\n",
        "Step: 13 best: 47\n",
        "Step: 14 best: 47\n",
        "Step: 15 best: 47\n",
        "Step: 16 best: 47\n",
        "Step: 17 best: 47\n",
        "Step: 18 best: 47\n",
        "Step: 19 best: 47\n",
        "Step: 20 best: 47\n",
        "Step: 21 best: 41\n",
        "Step: 22 best: 35\n",
        "Step: 23 best: 35\n",
        "Step: 24 best: 35\n",
        "Step: 25 best: 35\n",
        "Step: 26 best: 35\n",
        "Step: 27 best: 35\n",
        "Step: 28 best: 35\n",
        "Step: 29 best: 35\n",
        "Step: 30 best: 35\n",
        "Step: 31 best: 35\n",
        "Step: 32 best: 35\n",
        "Step: 33 best: 35\n",
        "Step: 34 best: 35\n",
        "Step: 35 best: 35\n",
        "Step: 36 best: 35\n",
        "Step: 37 best: 35\n",
        "Step: 38 best: 35\n",
        "Step: 39 best: 35\n",
        "Step: 40 best: 35\n",
        "Step: 41 best: 35\n",
        "Step: 42 best: 35\n",
        "Step: 43 best: 35\n",
        "Step: 44 best: 35\n",
        "Step: 45 best: 35\n",
        "Step: 46 best: 35\n",
        "Step: 47 best: 35\n",
        "Step: 48 best: 35\n",
        "Step: 49 best: 35\n",
        "Step: 50 best: 35\n",
        "x = [14 12  8 13  8] [3 4 2 4 4] 15 Best scores: 35\n"
       ]
      },
      {
       "metadata": {},
       "output_type": "pyout",
       "prompt_number": 9,
       "text": [
        "(x = [14 12  8 13  8], 35)"
       ]
      }
     ],
     "prompt_number": 9
    },
    {
     "cell_type": "code",
     "collapsed": false,
     "input": [
      "run_method(StochasticHillClimber, diop, temperature=1000)"
     ],
     "language": "python",
     "metadata": {},
     "outputs": [
      {
       "output_type": "stream",
       "stream": "stdout",
       "text": [
        "Warning: parameter name temperature not found!\n",
        "Step: 0 best: 86\n",
        "Step: 1 best: 86\n",
        "Step: 2 best: 58\n",
        "Step: 3 best: 56\n",
        "Step: 4 best: 56\n",
        "Step: 5 best: 48\n",
        "Step: 6 best: 48\n",
        "Step: 7 best: 48\n",
        "Step: 8 best: 48\n",
        "Step: 9 best: 48\n",
        "Step: 10 best: 48\n",
        "Step: 11 best: 48\n",
        "Step: 12 best: 48\n",
        "Step: 13 best: 48\n",
        "Step: 14 best: 48\n",
        "Step: 15 best: 48\n",
        "Step: 16 best: 48\n",
        "Step: 17 best: 48\n",
        "Step: 18 best: 48\n",
        "Step: 19 best: 48\n",
        "Step: 20 best: 48\n",
        "Step: 21 best: 48\n",
        "Step: 22 best: 48\n",
        "Step: 23 best: 48\n",
        "Step: 24 best: 48\n",
        "Step: 25 best: 48\n",
        "Step: 26 best: 48\n",
        "Step: 27 best: 48\n",
        "Step: 28 best: 48\n",
        "Step: 29 best: 48\n",
        "Step: 30 best: 48\n",
        "Step: 31 best: 48\n",
        "Step: 32 best: 48\n",
        "Step: 33 best: 48\n",
        "Step: 34 best: 48\n",
        "Step: 35 best: 48\n",
        "Step: 36 best: 48\n",
        "Step: 37 best: 48\n",
        "Step: 38 best: 48\n",
        "Step: 39 best: 48\n",
        "Step: 40 best: 48\n",
        "Step: 41 best: 48\n",
        "Step: 42 best: 48\n",
        "Step: 43 best: 48\n",
        "Step: 44 best: 48\n",
        "Step: 45 best: 48\n",
        "Step: 46 best: 48\n",
        "Step: 47 best: 48\n",
        "Step: 48 best: 48\n",
        "Step: 49 best: 48\n",
        "Step: 50 best: 48\n",
        "x = [10  3 11  8 10] [3 4 2 4 4] 15 Best scores: 48\n"
       ]
      },
      {
       "metadata": {},
       "output_type": "pyout",
       "prompt_number": 38,
       "text": [
        "(x = [10  3 11  8 10], 48)"
       ]
      }
     ],
     "prompt_number": 38
    },
    {
     "cell_type": "code",
     "collapsed": false,
     "input": [
      "run_method(DGA, diop)"
     ],
     "language": "python",
     "metadata": {},
     "outputs": [
      {
       "output_type": "stream",
       "stream": "stdout",
       "text": [
        "Warning: parameter name temperature not found!\n",
        "Step: 0 best: 102\n",
        "Step: 1 best: 102\n",
        "Step: 2 best: 102\n",
        "Step: 3 best: 102\n",
        "Step: 4 best: 102\n",
        "Step: 5 best: 102\n",
        "Step: 6 best: 102\n",
        "Step: 7 best: 102\n",
        "Step: 8 best: 97\n",
        "Step: 9 best: 97\n",
        "Step: 10 best: 97\n",
        "Step: 11 best: 97\n",
        "Step: 12 best: 97\n",
        "Step: 13 best: 97\n",
        "Step: 14 best: 97\n",
        "Step: 15 best: 97\n",
        "Step: 16 best: 89\n",
        "Step: 17 best: 89\n",
        "Step: 18 best: 86\n",
        "Step: 19 best: 86\n",
        "Step: 20 best: 83\n",
        "Step: 21 best: 83\n",
        "Step: 22 best: 79\n",
        "Step: 23 best: 75\n",
        "Step: 24 best: 75\n",
        "Step: 25 best: 53\n",
        "Step: 26 best: 45\n",
        "Step: 27 best: 45\n",
        "Step: 28 best: 45\n",
        "Step: 29 best: 45\n",
        "Step: 30 best: 45\n",
        "Step: 31 best: 45\n",
        "Step: 32 best: 45\n",
        "Step: 33 best: 45\n",
        "Step: 34 best: 45\n",
        "Step: 35 best: 45\n",
        "Step: 36 best: 45\n",
        "Step: 37 best: 45\n",
        "Step: 38 best: 45\n",
        "Step: 39 best: 38\n",
        "Step: 40 best: 38\n",
        "Step: 41 best: 38\n",
        "Step: 42 best: 38\n",
        "Step: 43 best: 38\n",
        "Step: 44 best: 26\n",
        "Step: 45 best: 26\n",
        "Step: 46 best: 26\n",
        "Step: 47 best: 26\n",
        "Step: 48 best: 26\n",
        "Step: 49 best: 26\n",
        "Step: 50 best: 26\n",
        "x = [ 3  6  3  4 13] [3 4 2 4 4] 15 Best scores: 26\n"
       ]
      },
      {
       "metadata": {},
       "output_type": "pyout",
       "prompt_number": 11,
       "text": [
        "(x = [ 3  6  3  4 13], 26)"
       ]
      }
     ],
     "prompt_number": 11
    }
   ],
   "metadata": {}
  }
 ]
}